{
 "cells": [
  {
   "cell_type": "markdown",
   "metadata": {},
   "source": [
    "### Introduction:"
   ]
  },
  {
   "cell_type": "markdown",
   "metadata": {},
   "source": [
    "We introduce a new embedding approach of periodic systems onto a nonperiodic isolated environment through subsystem-DFT (Frozen Denisty Embedding method (FDE)). Furthermore, we use this approach to calculate the ionzation potential (IP) of an ionic crystal relative to an isolated calculation. For this we introduce a new formalism to evaluate total energies for charged systems. We show the usage of our method through the calculation of IPs for NaCl with an increasing system size. Along the way we are clarifying the procedure for periodic in nonperiodic embedding apporaches which, in our opinion, are not always clear in the literature."
   ]
  },
  {
   "cell_type": "markdown",
   "metadata": {},
   "source": [
    "### Theory:"
   ]
  },
  {
   "cell_type": "markdown",
   "metadata": {},
   "source": [
    "The following theory is structured as follows. After a brief introduction to electrostatics in periodic systems, a short introduction to the Martyna-Tuckerman-Method is done. In the next step we are introducing our periodic in nonperiodic embedding method. Furthermore we introduce a way to treat impurities inside a crystal surrounding. In the end we are showing how to calculate ionization potential through the methods introduced before and also discuss the main problems of periodic Coulomb interactions and how to handle these interactions in the embedding scheme. Especially, we are discussing energy contribution from the $g = 0$ components. "
   ]
  },
  {
   "cell_type": "markdown",
   "metadata": {},
   "source": [
    "### Electrostatics in periodic systems:"
   ]
  },
  {
   "cell_type": "markdown",
   "metadata": {},
   "source": [
    "* ***Paper:***\n",
    "\n",
    "> **J.P. Hansen:** J. P. Hansen, MD dynamics simulation of Coulomb systems, in MD Simulation of Statistical Mechanical  Systems, North–Holland,  Amsterdam,1986\n",
    "\n",
    "> **S.W. de Leeuw:** 1) S. W. de Leeuw and J. W. Perram, Mol. Phys. 37,1313(1979)// 2)  S. W. de Leeuw, J. W. Perram, and E. R. Smith, Proc.R.Soc. London, Ser. A 373,57(1980)// 3)  S. W. de Leeuw, J. W. Perram, and E. R. Smith, Proc.R.Soc. London, Ser. A 373,27(1980)// 4) S. W. de Leeuw, J. W. Perram, and E. R. Smith,Proc.R.Soc. London, Ser. A\n",
    "388, 177 (1983)\n",
    "\n",
    "> **Martyna-Tuckerman:** http://aip.scitation.org/doi/abs/10.1063/1.477923\n",
    "\n",
    "> **O. Andreussi:** https://journals.aps.org/prb/pdf/10.1103/PhysRevB.90.245101 (Oliviero Andreussi/ Electrostatics of solvated systems in periodic boundary conditions)\n",
    "\n",
    "> **Huehnenberger:** 1)P. H. Huenenberger and J. A. McCammon, J. Chem. Phys. 110,1856(1999) // 2) T. N. Heinz and P. H. Huenenberger,J. Chem. Phys. 123,034107(2005) //3) M. A. Kastenholz and P. H. Huenenberger, J. Chem. Phys. 124, 124108 (2006)"
   ]
  },
  {
   "cell_type": "markdown",
   "metadata": {},
   "source": [
    "* ***Description:***\n",
    "\n",
    "The electrostatic potential $v$ can be obtained from the Poisson equation.\n",
    "\n",
    "$$\n",
    "\\nabla^2 v(r) = -4\\pi\\rho(r)\n",
    "$$\n",
    "\n",
    "The solution of this equation depends on the boundary conditions and on the appearance of an external electric field. In the case of open boundary conditions ($v(r) \\rightarrow 0$ for $r \\rightarrow \\pm \\infty$) the solution of the Poisson equation is\n",
    "\n",
    "$$\n",
    "v(r) = \\int dr \\frac{\\rho(r')}{|r-r'|}.\n",
    "$$\n",
    "\n",
    "This leads to the electrostatic energy $E[\\rho]$\n",
    "\n",
    "$$\n",
    "E[\\rho] = \\frac{1}{2} \\int dr \\rho(r) v[\\rho].\n",
    "$$\n",
    "\n",
    "It has to be pointed out that this expression includes a singularity for $r=0$ and a self-interaction error between the same charge. In the following we are considering the electrostatic potential within periodic boundary conditons (PBC). In the case of PBCs the electrostatic potential can be expressed in reciprocal space and $v[\\rho](g)$ becomes to \n",
    "\n",
    "$$\n",
    "v[\\rho](g) = 4 \\pi \\sum_\\mathrm{g \\neq 0} \\frac{\\rho(g)}{g^2} e^{igr}.\n",
    "$$\n",
    "\n",
    "Care has to be taken for the singularity at g = 0. Through the Gauss theorem it becomes clear that a for a system with applied PBCs the poisson equation is only defined in the case of in total neutral charged systems. Nevertheless electrostatic energies can be defined for charged system within PBCs through adding an oppositly charged backround.\n",
    "\n",
    "\n",
    "In the following the contribution from the $g = 0$ component is going to be further analyzed using a derivation adopted from Martyna-Tuckerman and J.P. Hansen."
   ]
  },
  {
   "cell_type": "markdown",
   "metadata": {},
   "source": [
    "In principle the long range Coulomb interaction can be divided into a long range and a short range part in real space and the corresponding Fourier transforms in reciprocal space. This leads to the following expression for $g = 0$\n",
    "\n",
    "$$\n",
    "E(0) = \\frac{1}{2V}|\\tilde \\rho(0)|^2 \\tilde{w}^\\mathrm{short}(0) + \\frac{1}{2V}|\\tilde \\rho(0)|^2 \\lim_{g \\to 0} \\tilde{w}^\\mathrm{long}(g)\n",
    "$$\n",
    "\n",
    "with $\\tilde \\rho$ standing for the total charge density of the system.\n",
    "\n",
    "Assuming a domain defined as $D(\\overleftrightarrow h)$ and assuming scaling this domain according to a factor $\\epsilon$.\n",
    "\n",
    "$$\n",
    "\\tilde E^\\mathrm{0,long} = \\frac{1}{2V} \\lim_{\\epsilon \\to \\infty} \\int dr \\int dr' \\rho(r) \\rho(r') \\int dr''_{D(\\overleftrightarrow h(\\epsilon))} w^\\mathrm{0,long} (r'' + r - r')\n",
    "$$\n",
    "\n",
    "\n",
    "This scaling of the domain by $\\epsilon$ and taking $\\epsilon$ to $\\infty$ can be understood as creating a spherical object from an ensemble of unit cells in a vacuum environment (**Olivieros Paper**). In the next step the coordinates can be changed to scaled coordinates and a Taylor expansion of $w^\\mathrm{long}$ can be performed (compare Apendix A MT).\n",
    "\n",
    "This leads finally to the following expression:\n",
    "\n",
    "$$\n",
    "E^{(\\mathrm{long})}(g = 0) \\propto |\\tilde \\rho(g = 0)|^2 \\gamma + \\int d\\textbf{r} \\int d\\textbf{r'} \\rho(\\textbf{r})\\rho(\\textbf{r'}) \\frac{1}{2} [(r-r') \\overleftrightarrow{T}((r-r'))]\n",
    "$$\n",
    "\n",
    "\n",
    "The expression has two contributions to the electrostatic energy. The first term belongs to the charged infinte backround $\\gamma$ and has no energy contribtion for neutral charged systems.  Furthermore, the Taylor expansion leads to one more term - the depolarisation tensor $\\overleftrightarrow{T}$. The tensor is caused by a nonzero dipole contribtion to the surface of the scaled sphere $D(\\overleftrightarrow h(\\epsilon))$. It reflects the change in the spherical shape of the electrostatic potential at the surface. It can be assumed that the contribution of this term is system dependend and that there is no contribution if the system is surrounded by a metal. All contributions to the electrostatic energy, except for the second order, are converging and show no influence for $g = 0$ (** S. W. de Leeuw, J. W. Perram, and E. R. Smith, Proc.R.Soc. London, Ser. A 373,57(1980)**).\n",
    "\n",
    "\n",
    "At this point, the dicussion turns to the consequences caused by the fact that in Quantum Espresso and in other electronic structure codes with periodic boundary conditions $v_\\mathrm{coul}(g = 0)$ is set to zero. For charged systems $\\tilde \\rho(g = 0)$ is not equal to zero. This implies an oppositly charged backround added to the system which in turn is shifting the eingenvalues. This has to be taken into account when total energy differences between different charged systems are compared. Furthermore, the depolarization tensor is neglected (assuming a metal is surrounding the sphere introduced above) for both charged and neutral systems and need to be addressed individually.\n",
    "\n",
    "\n",
    "**Mentioning for which system the depolarization tensor is important ?**\n",
    "\n",
    "\n",
    "**Too close to MT - Paper ?**\n",
    "\n",
    "\n",
    "**In MT paper $|\\tilde \\rho(g = 0)|^2 \\gamma$ is an expression for a total charged system; in Olivieros/ Dabos paper they are saying no solution for a charged system?**"
   ]
  },
  {
   "cell_type": "markdown",
   "metadata": {},
   "source": [
    "### Martyna-Tuckerman Method:"
   ]
  },
  {
   "cell_type": "markdown",
   "metadata": {},
   "source": [
    "* ***Paper:***\n",
    "\n",
    "> http://aip.scitation.org/doi/abs/10.1063/1.477923 (original paper)\n",
    "\n",
    "> http://aip.scitation.org/doi/abs/10.1063/1.3662863 (summary paper)\n",
    "\n",
    "> http://aip.scitation.org/doi/pdf/10.1063/1.2335442 (Efficient solution of Poisson’s equation with free boundary conditions)\n",
    "\n",
    "> http://aip.scitation.org/doi/pdf/10.1063/1.2754685 (Efficient and accurate three-dimensional Poisson solver for surface problems)\n",
    "\n",
    "> https://journals.aps.org/prb/pdf/10.1103/PhysRevB.90.245101 (Oliviero Andreussi/ Electrostatics of solvated systems in periodic boundary conditions)\n",
    "\n",
    "* ***Description:***\n",
    "\n",
    "\n",
    "Martyna-Tuckerman introduced a method based on a reciprocal space formalism for treating longrange interactions in cluster systems. This method is based on a screening function approach. Allthough there are different real space approaches (**Cite the approaches**) developed to correct the electronic potential, the Martyna-Tuckerman method is computational very cheap and is easily compatible/ implementable or already implemented in existing plane wave quantum chemistry programs (**QE**)."
   ]
  },
  {
   "cell_type": "markdown",
   "metadata": {},
   "source": [
    "The Martyna-Tuckerman method can be understood as a method which makes a Kernel $w(r)$ periodic about a single simulation cell through the usage of the first/ nearest image form.\n",
    "\n",
    "The average cluster energy of $w(r)$ for a plane wave expansion can be expressed as follwos \n",
    "\n",
    "$$\n",
    "<E>^{(1)} = \\frac{1}{2V} \\sum_{g} |\\bar n(g)|^2 \\bar w(-g)\n",
    "$$\n",
    "\n",
    "In this case $\\bar w(g)$ is the Fourier Transform of the function $w(r)$ within the first image form. The corresponding Fouriertransform over all space will be referred as $\\tilde{w}(g)$ in the following. This energy expression for a cluster system is only correct, if the product of densities and observables is zero at the boundary of the cluster. For this reason care has to be taken for the size dependency of $<E>^{1}$.\n",
    "\n",
    "In the following we are considering the coulomb interactions causing undesired longrange interactions between unit cells. For this reason $w(r)$ can be devided in short and longrange part controlled by a parameter $\\alpha$.\n",
    "\n",
    "$$\n",
    "w(r) = w(r)^\\mathrm{(short)}+w(r)^{\\mathrm{(long)}} = \\frac{erfc(\\alpha r)}{r} + \\frac{erf(\\alpha r)}{r} \n",
    "$$\n",
    "\n",
    "This leads to the following finite fourier transforms in reciprocal space\n",
    "\n",
    "$$\n",
    "\\bar{w}(g) = \\bar{w}(g)^\\mathrm{(short)}+\\bar{w}(g)^{\\mathrm{(long)}}.\n",
    "$$\n",
    "\n",
    "It is assumed that $\\tilde{w}(g)^\\mathrm{(short)} = \\bar{w}(g)^\\mathrm{(short)} + \\epsilon(g)$ with a small error $\\epsilon$ which is converging exponentially for a sufficent cell cize."
   ]
  },
  {
   "cell_type": "markdown",
   "metadata": {},
   "source": [
    "This leads to\n",
    "\n",
    "$$\n",
    "\\bar{w}(g) = \\tilde{w}(g)^\\mathrm{(short)}+\\bar{w}(g)^{\\mathrm{(long)}}\n",
    "$$\n",
    "\n",
    "and finally to \n",
    "\n",
    "$$\n",
    "\\bar{w}(g) = \\tilde{w}(g)^\\mathrm{(short)}+\\bar{w}(g)^{\\mathrm{(long)}}\n",
    "$$\n",
    "\n",
    "$$\n",
    "= \\tilde{w}(g)^\\mathrm{(short)} + \\tilde{w}(g)^\\mathrm{(long)} + [\\bar{w}(g)^{\\mathrm{(long)}} - \\tilde{w}(g)^\\mathrm{(long)}]\n",
    "$$\n",
    "\n",
    "$$\n",
    "= \\tilde{w}(g) + \\hat{w}(g)^{\\mathrm{(screen)}}\n",
    "$$\n",
    "\n",
    "In **number of formular** a screening function $\\hat{w}(g)^{\\mathrm{(screen)}}$ is introduced which can be interpreted as function which cuts off interaction with neighbouring cells. At this point the main advantages of this reciprocal space based approach becomes clear. On the one hand $\\tilde{w}(g)$ is the regular Greensfunction as a solution of the poisson equation which is evaluated by default in **QE**. Furthermore $\\bar{w}(g)^{\\mathrm{(long)}}$ can be obtained numerically and standard FFT techniques can be used. Furthermore $\\bar{w}(g)^{\\mathrm{(long)}}$ can be calculated only once and can be stored in memory for the rest of the calculation.\n",
    "\n",
    "We want to mention that a special care has to be taken for the evaluating the $g = 0$ and $r = 0$ component for coulomb systems. For the  $r = 0$ component we are reffering the reader to Appendix B in the MT paper. In the case of the $g = 0$ component a detailed discussion will be done later."
   ]
  },
  {
   "cell_type": "markdown",
   "metadata": {},
   "source": [
    "### Periodic in nonperiodic embedding:"
   ]
  },
  {
   "cell_type": "markdown",
   "metadata": {},
   "source": [
    "#### Embedding of periodic system onto finite systems:\n",
    "\n",
    "\n",
    "* ***Paper:***\n",
    "\n",
    "> **Johannes/ Christoph**: 1) http://onlinelibrary.wiley.com/doi/10.1002/wcms.1175/full (Subsystem DFT Review Neugebauer/ Jacob)\n",
    "\n",
    "> **Michele s-DFT**: 1)iopscience.iop.org/artichttp://iopscience.iop.org/article/10.1088/0953-8984/27/18/183202/pdfle/10.1088/0953-8984/27/18/183202/pdf (Subsystem DFT Review Michele/ Alisa et al.; condensed matter) // 2) http://onlinelibrary.wiley.com/doi/10.1002/qua.25401/pdf (eQE Paper)// 3) http://aip.scitation.org/doi/pdf/10.1063/1.4897559 (periodic subsystem DFT)\n",
    "\n",
    "> **PDFT:** 1) J. Nafziger and A. Wasserman, J. Phys. Chem. A 118, 7623 (2014) // 2) P. Elliott, K. Burke, M. H. Cohen, and A. Wasserman, Phys. Rev. A\n",
    "82, 024501 (2010) // 3) M. H. Cohen and A. Wasserman, J. Phys. Chem. A 111, 2229 (2007) // 4) R. Tang, J. Nafziger, and A. Wasserman, Phys. Chem. Chem. Phys.\n",
    "14, 7780 (2012) // M. H. Cohen, A. Wasserman, R. Car, and K. Burke, J. Phys. Chem.\n",
    "A 113, 2183 (2009)\n",
    "\n",
    "> **Embedding theory Carter/ Huang/ Libisch**: 1) F. Libisch, C. Huang, and E. A. Carter, Acc. Chem. Res. 47, 2768\n",
    "(2014) // 2) C. Huang and E. A. Carter, J. Chem. Phys. 135, 194104 (2011) // 3)  F. Libisch, C. Huang, P. Liao, M. Pavone, and E. A. Carter, Phys. Rev. Lett. 109, 198303 (2012)\n",
    "\n",
    "> **Cortona-Paper:** 1) https://journals.aps.org/prb/pdf/10.1103/PhysRevB.44.8454 (Self-consistently determined properties of solids without band-structure calculations) // 2) http://onlinelibrary.wiley.com/doi/10.1002/qua.560520424/pdf (Self-Consistent Calculations of Total Energies and Charge Densities of Solids Without Solving the Band-Structure Problem)\n",
    "\n",
    "> **Weselowski Paper**: 1) http://pubs.acs.org/doi/pdf/10.1021/j100132a040 (Frozen Density  Functional Approach for ab Initio \n",
    "Calculations of Solvated Molecules)"
   ]
  },
  {
   "cell_type": "markdown",
   "metadata": {},
   "source": [
    "* ***Description:***\n",
    "\n",
    "In the literature a variety of embedding approaches has been proposed. Although these show different ideas, the main idea is to partition the whole system of interest into different subsystems. This concept gives alot of advantages compared to regular KS-DFT. In the context of frozen density embedding (FDE) big system can be computationally reachable within a reasonable amount of time. Furthermore embedding approaches can be used in a DFT in DFT or WF in DFT context. Through a relative inexpansive but still reasonable calulation of the enviromnet an embeddig potential $v_\\mathrm{emb}$, which describes the interaction from the enviromnet onto the subsystem, can be obtained. The actual subsystem of interest can then be treated on a higher level of theory. "
   ]
  },
  {
   "cell_type": "markdown",
   "metadata": {},
   "source": [
    "In general two program approaches are used in electronic structure calculations. On the one hand codes with a molecular basis set and on the other hand codes with periodic boundary conditions are developed. We are presenting a new way of obtaining an $v_\\mathrm{emb}$ self consistently from a plane wave code. This embedding potential can then be used in a calculation of a finite system to obtain the quantity of interest. The starting point to calculate $v_\\mathrm{emb}$ is a subsystem DFT calculation with the FDE method."
   ]
  },
  {
   "cell_type": "markdown",
   "metadata": {},
   "source": [
    "The advantage of calculating an embedding potential from this procedure is the possibility to describe the environment of even larger systems due to the reduced computational cost. In addition the subsystems are already assigned in the beginning of the calculation and, in principle, the embedding potential from each subsystem can be obtained. Furthermore the nonadditive kinetic energy $T_\\mathrm{s}^\\mathrm{nad}[\\{\\rho\\}]$is already included in the calculation and can be easily taken into account in the calculation of $v_\\mathrm{emb}$."
   ]
  },
  {
   "cell_type": "markdown",
   "metadata": {},
   "source": [
    "In the literature no special care is taken about different type of periodic embedding potential. It has to be pointed out that in order to get a nonperiodic $v_\\mathrm{emb}$ from a periodic calculation the interaction from the replicas onto the isolated fragment of interst hast to be included. In general the main contribution is caused by the longrange coulomb interaction. Because of this, we are using the MT method to represent the electrostatics of an isolated fragment. This leads to the following definition of our $v_\\mathrm{emb}$:\n",
    "\n",
    "$$\n",
    "v_\\mathrm{emb} = v_\\mathrm{eff, I}[\\{\\rho\\}] - v_\\mathrm{MT,I}[\\rho_\\mathrm{I}]\n",
    "$$\n",
    "\n",
    "In which the $v_\\mathrm{eff,I}$ can be expressed\n",
    "\n",
    "$$\n",
    "v_\\mathrm{eff, I}[\\{\\rho\\}] = v_\\mathrm{H}[\\rho_\\mathrm{tot}] +  v_\\mathrm{loc}(r) + \\sum_\\mathrm{i}^\\mathrm{N_s}v_\\mathrm{XC}[\\{\\rho_i\\}] + \\sum_\\mathrm{i}^\\mathrm{N_s}v_\\mathrm{T_\\mathrm{s}}[\\{\\rho_i\\}] + \\sum_\\mathrm{i}^\\mathrm{N_s}v_\\mathrm{nadd}[\\{\\rho_i\\}]\n",
    "$$\n",
    "\n",
    "and $v_\\mathrm{MT,I}[\\rho_\\mathrm{I}]$ corresponds to\n",
    "\n",
    "\n",
    "$$\n",
    "v_\\mathrm{MT, I}[\\rho_\\mathrm{I}] = v_\\mathrm{H,MT}[\\rho_\\mathrm{I}] +  v_\\mathrm{loc,MT}(r) + v_\\mathrm{XC}[\\rho_\\mathrm{I}] + v_\\mathrm{T_\\mathrm{s}}[\\rho_\\mathrm{I}].\n",
    "$$\n",
    "\n",
    "\n",
    "It becomes clear that the idea of obtaining the embedding potential is closely related to the FDE scheme. An illustration for a single water molecule is illustrated in the follwing:"
   ]
  },
  {
   "cell_type": "markdown",
   "metadata": {},
   "source": [
    "<img align=\"middle\" src=\"water_komplett.png\" width = \"500\"> \n",
    "\n",
    "**Fig.1:** Illustration of periodic embedding (left) and nonperiodic embedding (right) within periodic boundary conditions for one water subsystem."
   ]
  },
  {
   "cell_type": "markdown",
   "metadata": {},
   "source": [
    "In fig. 1 the embedding scheme for **one** water molecule is shown, on the left without the MT correction for  $v_\\mathrm{H}[\\rho_\\mathrm{I}]$ and $v_\\mathrm{loc}(r)$ and on the right side with the correction. Without the MT method this procedure leads to numerical noise (left). On the right only an isolated fragment through the MT method is removed and someone can see the influence of the periodic replicas onto this one fragment which leads to dipolmoment."
   ]
  },
  {
   "cell_type": "markdown",
   "metadata": {},
   "source": []
  },
  {
   "cell_type": "markdown",
   "metadata": {},
   "source": [
    "### The impurity problem:"
   ]
  },
  {
   "cell_type": "markdown",
   "metadata": {},
   "source": [
    "* ***Paper:***\n",
    "\n",
    "> **Peter A. Schulz:**1) Local Moment Counter Charge Correction P. A. Schultz, Phys. Rev. Lett. 84, 1942(2000) // 2)Local electrostatic moments and periodic boundary conditions, Peter A. Schultz, Phys. Rev. B 60, 1551 (1999)// 3) Theory of Defect Levels and the “Band Gap Problem” in Silicon, Peter A. Schultz, Phys. Rev. Lett. 96, 246401(2006)\n",
    "\n",
    "\n",
    "> **Markov Payne:** 1) Periodic boundary conditions in ab initio calculations, G. Makov and M. C. Payne, Phys. Rev. B 51 (1995)\n",
    "\n",
    "\n",
    "> **Ismaila Dabo:** 1)I. Dabo, B. Kozinsky, N. E. Singh-Miller, and N. Marzari, Phys. Rev. B 77,115139(2008); correction:  I. Dabo, B. Kozinsky, N. E. Singh-Miller, and N. Marzari,Phys.Rev. B 84,159910(E)(2011)\n"
   ]
  },
  {
   "cell_type": "markdown",
   "metadata": {},
   "source": [
    "* ***Description***\n",
    "\n",
    "We are proposing a new method for the calculatuion of properties of isolated fragment within a crystal surrounding. This method is performed in a \"half coupled\" way. This means we are taking the response of the density of the impurity of interest into acoount, but so far the response of the same subsystems in the enviromnet are not taken into account. This method makes again use of the Martyna-Tuckerman method to treat isolated within PBC.\n",
    "\n",
    "The main idea of this method is, that the electrostatics of periodic replicas of the same subsystem without the actual subsystem of interest can be represented by an screening potential, which can be defined as follows\n",
    "\n",
    "\n",
    "$$\n",
    "v^\\mathrm{screen}_\\mathrm{coul, I} = v^\\mathrm{PBC}_\\mathrm{coul, I}[\\rho_\\mathrm{I}](r) - v^\\mathrm{MT}_\\mathrm{coul, I}[\\rho_\\mathrm{I}](r).\n",
    "$$\n",
    "\n",
    "This is related to the definition of $v_\\mathrm{emb}$ as we defined earlier. The potential of an impurity can then be computed through $\\Delta v^\\mathrm{screen}_\\mathrm{coul, I}$\n",
    "\n",
    "\n",
    "$$\n",
    "\\Delta v^\\mathrm{screen}_\\mathrm{coul, I} = v^\\mathrm{screen, env}_\\mathrm{coul, I} - v^\\mathrm{screen,imp}_\\mathrm{coul, I}.\n",
    "$$\n",
    "\n",
    "$\\Delta v^\\mathrm{screen}_\\mathrm{coul, I}$ can be understood as a function which is replacing the environment electrostatic of subsystem I with the elctrostatics of a different subsytem. In the case of an ionized impurity into a not ionized surrounding $\\Delta v^\\mathrm{screen}_\\mathrm{coul, I}$ is replacing the electrostatic of the ionized environment with the not ionized surrounding.\n",
    "\n",
    "This procedure is carried out half self consistently. $v^\\mathrm{screen, env}_\\mathrm{coul, I}$ is important externally from a calculation without impurity and $v^\\mathrm{screen,imp}_\\mathrm{coul, I}$ is calculated in every scf step."
   ]
  },
  {
   "cell_type": "markdown",
   "metadata": {},
   "source": []
  },
  {
   "cell_type": "markdown",
   "metadata": {},
   "source": [
    "### Calculation of IPs for periodic systems:"
   ]
  },
  {
   "cell_type": "markdown",
   "metadata": {},
   "source": [
    "\n",
    "$$\n",
    "E^\\mathrm{IP} = E^\\mathrm{ion} - E^\\mathrm{neu}\n",
    "$$"
   ]
  },
  {
   "cell_type": "markdown",
   "metadata": {},
   "source": [
    "### Energy shifts due to external (embedding) potentials:"
   ]
  },
  {
   "cell_type": "markdown",
   "metadata": {},
   "source": [
    "The calculation of IPs in periodic systems is not as straight forward as presented in **Section before**. The Kernel for the Coulomb potential in reciprocal is given throug the Poisson equation as"
   ]
  },
  {
   "cell_type": "markdown",
   "metadata": {},
   "source": [
    "$$\n",
    "w_\\mathrm{coul} \\propto \\sum_\\mathrm{g \\neq 0} \\frac{4 \\pi}{g^2} e^{igr}.\n",
    "$$"
   ]
  },
  {
   "cell_type": "markdown",
   "metadata": {},
   "source": [
    "The Kernel defined in **NUMBER OF Formular** shows a singularity for the $\\mathrm{g  = 0}$ component. However, the coulomb interaction energy can in prinicple devided into a purely long and short range part (**Martyna-Tuckerman paper**). In this case the singularity for $\\mathrm{g  = 0}$ has been removed and can be evaluated through a Taylor-Expansion around $\\mathrm{g  = 0}$ for a function $w^{(\\mathrm{long})}(\\textbf{r}) = \\frac{1}{|\\textbf{r}|}$ this leads to\n",
    "\n",
    "\n",
    "$$\n",
    "w^{(\\mathrm{long})}(g = 0) \\propto |\\tilde \\rho(g = 0)|^2 \\gamma + \\int d\\textbf{r} \\int d\\textbf{r'} \\rho(\\textbf{r})\\rho(\\textbf{r'}) \\frac{1}{2} [(r-r') \\overleftrightarrow{T}((r-r'))]\n",
    "$$\n",
    "\n",
    "**Check the references 13,14 Martyna Tuckerman paper!**\n",
    "**(and $\\overleftrightarrow{T}[(r-r')]$ is the depolarization tensor.)**\n",
    "\n",
    "\n",
    "with $\\gamma$ called the infinte backround which depends on the total charge density $\\tilde \\rho$ of the system. \n",
    "\n",
    "$$\n",
    "\\tilde \\rho(\\textbf{r}) = \\rho^e(\\textbf{r}) + \\rho^n(\\textbf{r}).\n",
    "$$\n",
    "\n",
    "It becomes clear that this contribtion is only existent for charged systems. This leads to the problem that energy differences between systems with periodic boundary conditions and different total charge are ill defined (**MT Paper**). The backround potential is shifting the eigenvalues of the charged system compared to the neutral system. Unfortunately we are facing exactly this problem for the calculation of vertical ionization potentials. Nevertheless a correct reference system can be a workaround for this problem.\n",
    "\n",
    "> http://aip.scitation.org/doi/abs/10.1063/1.464650\n",
    "\n",
    "\n",
    "The influence of a constant shift (like $\\gamma$)to a potential and the corresponding influence to the energy difference of two systems is shown. In the following we are assuming that $v$ corresponds to a correctly referenced potential and $\\alpha$ and $\\beta$ are constant shifts to this potential which leads to $v'$."
   ]
  },
  {
   "cell_type": "markdown",
   "metadata": {},
   "source": [
    "$$\n",
    "v_\\mathrm{A}^{\\prime}(\\textbf{r}) = v_\\mathrm{A}(\\textbf{r}) + \\alpha\n",
    "$$\n",
    "\n",
    "$$\n",
    "v_\\mathrm{B}^{\\prime}(\\textbf{r}) = v_\\mathrm{B}(\\textbf{r}) + \\beta\n",
    "$$\n"
   ]
  },
  {
   "cell_type": "markdown",
   "metadata": {},
   "source": [
    "The corresponding difference in energy assuming that $\\int d\\textbf{r} \\rho^\\mathrm{n,e} = \\pm N_\\mathrm{n,e}$, with $N^n_\\mathrm{A} = N^n_\\mathrm{B}$ and $N^e_\\mathrm{B} = N^n_\\mathrm{B}$, if the initial system is totally neutral charged, this leads to\n",
    "$$\n",
    "\\Delta E =\\left(\\int \\tilde \\rho_\\mathrm{A}(\\textbf{r}) v_\\mathrm{A}(\\textbf{r})d\\textbf{r} + N_\\mathrm{A} \\alpha\\right) - \\left(\\int \\tilde \\rho_\\mathrm{B}(\\textbf{r}) v_\\mathrm{B}(\\textbf{r})d\\textbf{r} + N_\\mathrm{B} \\beta \\right)\n",
    "$$\n",
    "\n",
    "$$\n",
    "=\\left(\\int \\tilde \\rho_\\mathrm{A}(\\textbf{r}) v_\\mathrm{A}(\\textbf{r})d\\textbf{r} + N_\\mathrm{A} \\alpha\\right) - \\left(\\int \\tilde \\rho_\\mathrm{B}(\\textbf{r}) v_\\mathrm{B}(\\textbf{r})d\\textbf{r} \\right)\n",
    "$$\n",
    "\n",
    "$$\n",
    "=\\Delta E_\\mathrm{ref} + \\left[\\alpha( N^n_\\mathrm{A} - N^e_\\mathrm{A})\\right] = \\Delta E_\\mathrm{ref} + \\alpha \\Delta.\n",
    "$$"
   ]
  },
  {
   "cell_type": "markdown",
   "metadata": {},
   "source": [
    "From the equation we can extract that the absolute value of the energy difference is only correctly referenced when $\\alpha = 0$. The relative comparison between two $\\Delta E$ ,if the exact value of $\\alpha$ is unknwon, is nevertheless possible."
   ]
  },
  {
   "cell_type": "markdown",
   "metadata": {},
   "source": []
  },
  {
   "cell_type": "markdown",
   "metadata": {},
   "source": [
    "### Analysis of the shifts:"
   ]
  },
  {
   "cell_type": "markdown",
   "metadata": {},
   "source": [
    "After introducing our embedding approach and a method to treat impurities within crystal surroundings in principle vertical IPs can be obtained. Unfortunately care has to be taken of wrong referenced energies (**see previous chaper**). In the following we are deriving expressions for the reference of $v_\\mathrm{emb}$ and $\\Delta E_\\mathrm{IP}$. The wrong referenced is caused by a different backrounds due to the $g = 0$ component of these quantities. In the following we are again assuming that $\\tilde \\rho_\\mathrm{tot} = 0$ for the not ionized system (in total uncharged system). For the total charge denisties the follwoinng applies:\n",
    "\n",
    "\n",
    "* $\\tilde \\rho^{tot}_{ion} = c$\n",
    "   \n",
    "* $\\tilde \\rho^{tot}_{neu} = 0$\n",
    "  \n",
    "* $\\tilde \\rho_{ion} = \\tilde \\rho_{neu} + c$"
   ]
  },
  {
   "cell_type": "markdown",
   "metadata": {},
   "source": [
    "First both $v_\\mathrm{emb}$ need to be analyzed. For the map of the not ionized fragement the potential for the g = 0 component can be expressed as follows:\n",
    "\n",
    "\n",
    "$$\n",
    "\\tilde \\rho^{emb}_{neu}(g=0)w_0 = \\tilde \\rho^{tot}_{neu}(g=0)w_0 - \\tilde \\rho^{I}_{neu}(g=0)w_{MT,0} \n",
    "$$\n",
    "\n",
    "$$\n",
    "=> \\tilde \\rho^{emb}_{neu}(g=0)w_0 = - \\tilde \\rho^{I}_{neu}(g=0)w_{MT,0}.\n",
    "$$"
   ]
  },
  {
   "cell_type": "markdown",
   "metadata": {},
   "source": [
    "The reference for $v^\\mathrm{imp}_\\mathrm{emb}$ is\n",
    "\n",
    "\n",
    "$$\n",
    "\\tilde \\rho^{emb}_{imp}(g=0)w_0 = \\tilde \\rho^{tot}_{ion}(g=0)w_0 - [\\tilde \\rho^{I}_{ion}(g=0)w_{0} - \\tilde \\rho^{I}_{ion}(g=0)w_{MT,0}] + [\\tilde \\rho^{I}_{neu}(g=0)w_{0} -\\tilde \\rho^{I}_{neu}(g=0)w_{MT,0} ] - \\tilde \\rho^{I}_{ion}(g=0)w_{MT,0} \n",
    "$$\n",
    "\n",
    "$$\n",
    "=  c w_0 - (\\tilde \\rho_{neu}(g = 0) + c)w_{0} + [\\tilde \\rho^{I}_{neu}(g=0)w_{0} -\\tilde \\rho^{I}_{neu}(g=0)w_{MT,0} ]\n",
    "$$\n",
    "\n",
    "$$\n",
    "=  c w_0 - (\\tilde \\rho_{neu}(g = 0) + c)w_{0} + [\\tilde \\rho^{I}_{neu}(g=0)w_{0} -\\tilde \\rho^{I}_{neu}(g=0)w_{MT,0} ]\n",
    "$$\n",
    "\n",
    "$$\n",
    "= -\\tilde \\rho^{I}_{neu}(g=0)w_{MT,0}\n",
    "$$"
   ]
  },
  {
   "cell_type": "markdown",
   "metadata": {},
   "source": [
    "Through comparison of both results it becomes clear that both potentials are refernced to the same backround."
   ]
  },
  {
   "cell_type": "markdown",
   "metadata": {},
   "source": [
    "* Assumption initial system: neutral\n",
    "\n",
    "* Remarks:\n",
    "\n",
    "    * $\\tilde \\rho^{tot}_{ion} = 1$\n",
    "    \n",
    "    * $\\tilde \\rho^{tot}_{neu} = 0$\n",
    "    \n",
    "    * $\\tilde \\rho_{ion} = \\tilde \\rho_{neu} + 1$"
   ]
  },
  {
   "cell_type": "markdown",
   "metadata": {},
   "source": [
    "* Embedding potentials:\n",
    "\n",
    "1) For neutral system:\n",
    "\n",
    "$$\n",
    "\\tilde \\rho^{emb}_{neu}(g=0)w_0 = \\tilde \\rho^{tot}_{neu}(g=0)w_0 - \\tilde \\rho^{I}_{neu}(g=0)w_{MT,0} \n",
    "$$\n",
    "\n",
    "$$\n",
    "=> \\tilde \\rho^{emb}_{neu}(g=0)w_0 = - \\tilde \\rho^{I}_{neu}(g=0)w_{MT,0} \n",
    "$$"
   ]
  },
  {
   "cell_type": "markdown",
   "metadata": {},
   "source": [
    "2) For impurity system:\n",
    "\n",
    "$$\n",
    "\\tilde \\rho^{emb}_{imp}(g=0)w_0 = \\tilde \\rho^{tot}_{ion}(g=0)w_0 - [\\tilde \\rho^{I}_{ion}(g=0)w_{0} - \\tilde \\rho^{I}_{ion}(g=0)w_{MT,0}] + [\\tilde \\rho^{I}_{neu}(g=0)w_{0} -\\tilde \\rho^{I}_{neu}(g=0)w_{MT,0} ] - \\tilde \\rho^{I}_{ion}(g=0)w_{MT,0} \n",
    "$$\n",
    "\n",
    "$$\n",
    "=> \\tilde \\rho^{emb}_{imp}(g=0)w_0 = - \\tilde \\rho^{I}_{neu}(g=0)w_{MT,0} \n",
    "$$\n",
    "\n",
    "**Conclusion:**\n",
    "\n",
    "The total charge density value for both embedding potentials are the same. \n",
    "\n",
    "$$\n",
    "\\tilde \\rho_{neu}^{emb}(G=0) = \\tilde \\rho_{neu}^{tot}(G=0) - \\tilde \\rho_{neu}^{I}(G=0)\n",
    "$$\n",
    "\n",
    "$$\n",
    "\\tilde \\rho_{ion}^{emb}(G=0) = \\tilde \\rho_{ion}^{tot}(G=0) - \\tilde \\rho_{ion}^{I}(G=0)\n",
    "$$\n",
    "\n",
    "$$\n",
    "<=> \\tilde \\rho_{ion}^{emb}(G=0) = \\tilde \\rho_{neu}^{tot}(G=0)+1 - \\tilde \\rho_{neu}^{I}(G=0) -1\n",
    "$$\n",
    "\n",
    "$$\n",
    "<=> \\tilde \\rho_{ion}^{emb}(G=0) = \\tilde \\rho_{neu}^{tot}(G=0)- \\tilde \\rho_{neu}^{I}(G=0)\n",
    "$$\n",
    "\n",
    "\n",
    "Due to the fact that the function $w(G)$ for G=0 also the same is leads to the conclusion that both embedding potentials are referenced correctly (not abosulte but relative to each other) if $\\tilde v_X(G=0)$ is the same for both embedding potentials. This is achieved for the embedding potentials above.\n"
   ]
  },
  {
   "cell_type": "markdown",
   "metadata": {},
   "source": [
    "1) Energydifference only for isolated system:\n",
    "\n",
    "$$\n",
    "\\Delta E_{MT}(g=0) = \\tilde \\rho^{I}_{ion}(g=0)v_{MT,ion}(g=0)-\\tilde \\rho^{I}_{neu}(g=0)v_{MT,neu}(g=0)\n",
    "$$\n",
    "\n",
    "$$\n",
    "<=> \\Delta E_{MT}(g=0) = \\tilde \\rho^{I}_{ion}(g=0)\\tilde \\rho^{I}_{ion}(g=0)w_{MT,0}-\\tilde \\rho^{I}_{neu}(g=0)\\tilde \\rho^{I}_{neu}(g=0)w_{MT,0}\n",
    "$$\n",
    "\n",
    "$$\n",
    "<=> \\Delta E_{MT}(g=0) = (\\tilde \\rho^{I}_{neu}(g=0)+1)(\\tilde \\rho^{I}_{neu}(g=0)+1)-\\tilde \\rho^{I}_{neu}(g=0)\\tilde \\rho^{I}_{neu}(g=0)w_{MT,0}\n",
    "$$\n",
    "\n",
    "$$\n",
    "<=> \\Delta E_{MT}(g=0) = (1+2\\tilde \\rho^{I}_{neu}(g=0))w_{MT,0}\n",
    "$$"
   ]
  },
  {
   "cell_type": "markdown",
   "metadata": {},
   "source": [
    "2) Energydifference only for isolated system with embedding potential and interaction energies:\n",
    "\n",
    "$$\n",
    "\\Delta E_{MT,Int}(g=0) = \\tilde \\rho^{I}_{ion}(g=0)v_{MT,ion}(g=0)-\\tilde \\rho^{I}_{neu}(g=0)v_{MT,neu}(g=0) + \\tilde \\rho^{I}_{ion}(g=0)v_{emb,imp}(g=0)-\\tilde \\rho^{I}_{neu}(g=0)v_{emb}(g=0)\n",
    "$$\n",
    "\n",
    "$$\n",
    "<=> \\Delta E_{MT,Int}(g=0) = (1+2\\tilde \\rho^{I}_{neu}(g=0))w_{MT,0} + \\tilde \\rho^{I}_{ion}(g=0)v_{emb,imp}(g=0)-\\tilde \\rho^{I}_{neu}(g=0)v_{emb}(g=0)\n",
    "$$\n",
    "\n",
    "$$\n",
    "<=> \\Delta E_{MT,Int}(g=0) = (1+2\\tilde \\rho^{I}_{neu}(g=0))w_{MT,0} + v_{emb,imp}(g=0) + \\tilde \\rho^{I}_{neu}(g=0)v_{emb,imp}(g=0)-\\tilde \\rho^{I}_{neu}(g=0)v_{emb}(g=0)\n",
    "$$\n",
    "\n",
    "$$\n",
    "<=> \\Delta E_{MT,Int}(g=0) = (1+2\\tilde \\rho^{I}_{neu}(g=0))w_{MT,0}  - \\tilde \\rho^{I}_{neu}(g=0)w_{MT,0}  + \\tilde \\rho^{I}_{neu}(g=0)(- \\tilde \\rho^{I}_{neu}(g=0)w_{MT,0}) -\\tilde \\rho^{I}_{neu}(g=0)(- \\tilde \\rho^{I}_{neu}(g=0)w_{MT,0} (g=0))\n",
    "$$\n",
    "\n",
    "$$\n",
    "<=> \\Delta E_{MT,Int}(g=0) = (1+2\\tilde \\rho^{I}_{neu}(g=0))w_{MT,0}  - \\tilde \\rho^{I}_{neu}(g=0)w_{MT,0}  - \\tilde \\rho^{I}_{neu}(g=0) \\tilde \\rho^{I}_{neu}(g=0)w_{MT,0} + \\tilde \\rho^{I}_{neu}(g=0) \\tilde \\rho^{I}_{neu}(g=0)w_{MT,0} (g=0)\n",
    "$$\n",
    "\n",
    "$$\n",
    "<=> \\Delta E_{MT,Int}(g=0) = (1+2\\tilde \\rho^{I}_{neu}(g=0))w_{MT,0}  - \\tilde \\rho^{I}_{neu}(g=0)w_{MT,0} = (1+\\tilde \\rho^{I}_{neu}(g=0))w_{MT,0}\n",
    "$$"
   ]
  },
  {
   "cell_type": "code",
   "execution_count": null,
   "metadata": {
    "collapsed": true
   },
   "outputs": [],
   "source": []
  }
 ],
 "metadata": {
  "kernelspec": {
   "display_name": "Python 3",
   "language": "python",
   "name": "python3"
  },
  "language_info": {
   "codemirror_mode": {
    "name": "ipython",
    "version": 3
   },
   "file_extension": ".py",
   "mimetype": "text/x-python",
   "name": "python",
   "nbconvert_exporter": "python",
   "pygments_lexer": "ipython3",
   "version": "3.6.1"
  }
 },
 "nbformat": 4,
 "nbformat_minor": 2
}
