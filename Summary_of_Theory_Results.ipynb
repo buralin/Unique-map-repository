{
 "cells": [
  {
   "cell_type": "markdown",
   "metadata": {},
   "source": [
    "### Theory:"
   ]
  },
  {
   "cell_type": "markdown",
   "metadata": {},
   "source": [
    "The following theory is structured as follows. At first a short introduction into the Martyna-Tuckerman-Method is done. In the next step we are introducing our periodic in nonperiodic embedding method. Furthermore we introduce a way to treat impurities inside a crystal surrounding. In the end we are showing how to calculate ionization potential through the methods introduced before and also discuss how we handle the g = 0 component."
   ]
  },
  {
   "cell_type": "markdown",
   "metadata": {},
   "source": [
    "### Martyna-Tuckerman Method:"
   ]
  },
  {
   "cell_type": "markdown",
   "metadata": {},
   "source": [
    "* ***Paper:***\n",
    "\n",
    "> http://aip.scitation.org/doi/abs/10.1063/1.477923 (original paper)\n",
    "\n",
    "> http://aip.scitation.org/doi/abs/10.1063/1.3662863 (summary paper)\n",
    "\n",
    "> http://aip.scitation.org/doi/pdf/10.1063/1.2335442 (Efficient solution of Poisson’s equation with free boundary conditions)\n",
    "\n",
    "> http://aip.scitation.org/doi/pdf/10.1063/1.2754685 (Efficient and accurate three-dimensional Poisson solver for surface problems)\n",
    "\n",
    "* ***Description:***\n",
    "\n",
    "\n",
    "Martyna-Tuckerman introduced a method based on a reciprocal space formalism for treating longrange interactions in cluster systems."
   ]
  },
  {
   "cell_type": "markdown",
   "metadata": {},
   "source": [
    "### Periodic in nonperiodic embedding:\n",
    "\n",
    "We introduce a new embedding approach of periodic systems onto a nonperiodic isolated environment through subsystem-DFT (Frozen Denisty Embedding method (FDE|)). Furhtermore we use this approach to calculate the ionzation potential (IP) of an ionic crystal relative to the isolated calculation. For this we introduce a new formalism to evaluate total energies for charged systems. We show the usage of our method through the calculation of IPs for NaCl with an increasing system size. A long the way we are clearifying the procedure of periodic in nonperiodic embedding apporaches which in our opinion isn't always the case."
   ]
  },
  {
   "cell_type": "markdown",
   "metadata": {},
   "source": [
    "#### Embedding of periodic system onto finite systems:\n",
    "\n",
    "The accuracy of determining properties of systems is strongly correlated with computational cost. For this reason post Hartree-Fock methods like CI or CC are only accessible to a small system size. This problem led to a variety of embedding approaches in which the influence of the surrounding onto the fragment (subsystem) of interest is represented by an appropriate embedding potential $v_\\mathrm{emb}$. $v_\\mathrm{emb}$ is generate by a lower computational cost and also less accuracy. The properties of the smaller subsystem of interest can then be evaluated with a higher level of accuracy.\n",
    "\n",
    "> https://journals.aps.org/prb/pdf/10.1103/PhysRevB.44.8454 (Self-consistently determined properties of solids without band-structure calculations)\n",
    "\n",
    "> http://onlinelibrary.wiley.com/doi/10.1002/qua.560520424/pdf (Self-Consistent Calculations of Total Energies and Charge Densities of Solids Without Solving the Band-Structure Problem)\n",
    "\n",
    "> Weselowskis Paper\n",
    "\n",
    "> Emily carter Papers etc .....\n",
    "\n",
    "In the literature different schemes for performing embedding calculations are developed. Some of them are using a KS-DFT calculation of the entire system to calculate an effective potential $v_\\mathrm{eff}$ to generate $v_\\mathrm{emb}$ from it in the so called density functional embedding theory (DFET).\n",
    "\n",
    "\n",
    "> Emily Carter Papers ....\n",
    "\n",
    "> Waserman paper ?\n",
    "\n",
    "> More ??\n",
    "\n",
    "\n",
    "In the new map we are establishing we are going even further. For the calculation of $v_\\mathrm{eff}$ we are using subsystem-DFT (FDE-method) calculation of a periodic system. The drawback of this is that we need to approximate the non-additive kinetic energy for this calculation and we are loosing accuracy compared to KS-DFT. The advantage however is that bigger systems are accesseible. Furthermore the non-additive kinetic energy part is already included and doesn't need to be calculated in a later stage. Someone can understand the FDE procedure for periodic systems as special procedure of periodic in periodic embedding.\n",
    "\n",
    "> Cite eQE here ?\n",
    "\n",
    "The main problem of periodic in nonperiodic embedding is that someone only removes one isolated fragment from a otherwise environment with periodic boundary conditions. It has to be make sure that the influence from the fragment in the periodic replicas is still existing and the fragment is only removed in one unit cell of interest.\n",
    "\n",
    "We are presenting a method to perform this step in a plane wave basis set code which gives the possibilty to purely work with plane waves in a nonperiodic in periodic DFT-in-DFT embedding scheme. In contrast to this we also present the possiblity to use the calculated embedding potential in a regular molecular basis set code. To the best of our knowledge this is the first approach to perform periodic in  nonperiodic embedding within a purely plane wave framework. So far only DFT-in-DFT embedding methods where used but in the future also WF-DFT approaches are planned to be realized."
   ]
  },
  {
   "cell_type": "markdown",
   "metadata": {},
   "source": [
    "We can define an embedding potential similar to **Carter cite** and **Cortona cite**:\n",
    "\n",
    "**NON UNIQUENESS ???????????** \n",
    "\n",
    "\n",
    "$$\n",
    "v_\\mathrm{emb}(\\textbf{r}) = \\frac{\\delta E_\\mathrm{int}}{\\delta \\rho_\\mathrm{I}(\\textbf{r})} = \\frac{\\delta T^\\mathrm{s}_\\mathrm{int}}{\\delta \\rho_\\mathrm{I}(\\textbf{r})} + \\frac{\\delta E^\\mathrm{ne}_\\mathrm{int}}{\\delta \\rho_\\mathrm{I}(\\textbf{r})} + \\frac{\\delta E^\\mathrm{xc}_\\mathrm{int}}{\\delta \\rho_\\mathrm{I}(\\textbf{r})} + \\frac{\\delta J_\\mathrm{int}}{\\delta \\rho_\\mathrm{I}(\\textbf{r})}\n",
    "$$\n",
    "\n",
    "with\n",
    "\n",
    "$$\n",
    "\\frac{\\delta T^\\mathrm{s}_\\mathrm{int}}{\\delta \\rho_\\mathrm{I}(\\textbf{r})} = \\frac{\\delta T^\\mathrm{s}_\\mathrm{int}[\\rho_\\mathrm{tot}]}{\\delta \\rho_\\mathrm{tot}(\\textbf{r})} - \\frac{\\delta T^\\mathrm{s}_\\mathrm{int}[\\rho_\\mathrm{I}]}{\\delta \\rho_\\mathrm{I}(\\textbf{r})}\n",
    "$$"
   ]
  },
  {
   "cell_type": "markdown",
   "metadata": {},
   "source": [
    "$$\n",
    "\\frac{\\delta E^\\mathrm{xc}_\\mathrm{int}}{\\delta \\rho_\\mathrm{I}(\\textbf{r})} = \\frac{\\delta E^\\mathrm{xc}_\\mathrm{int}[\\rho_\\mathrm{tot}]}{\\delta \\rho_\\mathrm{tot}(\\textbf{r})} - \\frac{\\delta E^\\mathrm{xc}_\\mathrm{int}[\\rho_\\mathrm{I}]}{\\delta \\rho_\\mathrm{I}(\\textbf{r})}\n",
    "$$\n",
    "\n",
    "$$\n",
    "\\frac{\\delta J_\\mathrm{int}}{\\delta \\rho_\\mathrm{I}(\\textbf{r})} = \\frac{\\delta J_\\mathrm{int}[\\rho_\\mathrm{tot}]}{\\delta \\rho_\\mathrm{tot}(\\textbf{r})} - \\frac{\\delta J_\\mathrm{int}[\\rho_\\mathrm{I}]}{\\delta \\rho_\\mathrm{I}(\\textbf{r})}\n",
    "$$\n",
    "\n",
    "$$\n",
    "\\frac{\\delta E^\\mathrm{ne}_\\mathrm{int}}{\\delta \\rho_\\mathrm{I}(\\textbf{r})} = v^\\mathrm{ne}_\\mathrm{env}(\\textbf{r})\n",
    "$$"
   ]
  },
  {
   "cell_type": "markdown",
   "metadata": {},
   "source": [
    "Through the usage of a purely periodic framework to determine $v_\\mathrm{emb}$ we get a completely self consistent potential.\n",
    "As mentioned earlier the main problem within periodic boundary conditions is to remove one isolated system. For this purpose we made use of the Martyna-Tuckerman method within a subsystem-DFT framework. Through the handling of the longrange coulomb interactions (which is mostly causing the interactions between unit cells) in the MT method we have access to the coulomb potential of an isolated subsystem within the approximations performed in the MT method. Through this, the ebove equations can be reformulated to\n",
    "\n",
    "$$\n",
    "\\frac{\\delta E^\\mathrm{ne}_\\mathrm{int}}{\\delta \\rho_\\mathrm{I}(\\textbf{r})} = v^\\mathrm{ne}_\\mathrm{tot}(\\textbf{r}) - v^\\mathrm{ne}_\\mathrm{I,MT}(\\textbf{r})\n",
    "$$\n",
    "\n",
    "and\n",
    "\n",
    "$$\n",
    "\\frac{\\delta J_\\mathrm{int}}{\\delta \\rho_\\mathrm{I}(\\textbf{r})} = v^\\mathrm{H}_\\mathrm{tot}[\\rho_\\mathrm{tot}](\\textbf{r}) - v^\\mathrm{H}_\\mathrm{I,MT}[\\rho_\\mathrm{tot}](\\textbf{r})\n",
    "$$."
   ]
  },
  {
   "cell_type": "markdown",
   "metadata": {},
   "source": [
    "### The impurity problem:"
   ]
  },
  {
   "cell_type": "markdown",
   "metadata": {},
   "source": [
    "Me present a 'half coupled'-method to treat impurities in a crystal surrounding. "
   ]
  },
  {
   "cell_type": "markdown",
   "metadata": {},
   "source": [
    "### Calculation of IPs for periodic systems:"
   ]
  },
  {
   "cell_type": "markdown",
   "metadata": {},
   "source": [
    "\n",
    "$$\n",
    "E^\\mathrm{IP} = E^\\mathrm{ion} - E^\\mathrm{neu}\n",
    "$$"
   ]
  },
  {
   "cell_type": "markdown",
   "metadata": {},
   "source": [
    "### Energy shifts due to external (embedding) potentials:"
   ]
  },
  {
   "cell_type": "markdown",
   "metadata": {},
   "source": [
    "The calculation of IPs in periodic systems is not as straight forward as presented in **Section before**. The Kernel for the Coulomb potential in reciprocal is given throug the Poisson equation as"
   ]
  },
  {
   "cell_type": "markdown",
   "metadata": {},
   "source": [
    "$$\n",
    "w_\\mathrm{coul} \\propto \\sum_\\mathrm{g \\neq 0} \\frac{4 \\pi}{g^2}.\n",
    "$$"
   ]
  },
  {
   "cell_type": "markdown",
   "metadata": {},
   "source": [
    "The Kernel defined in **NUMBER OF Formular** shows a singularity for the $\\mathrm{g  = 0}$ component. However, the coulomb interaction energy can in prinicple devided into a purely long and short range part (**Martyna-Tuckerman paper**). In this case the singularity for $\\mathrm{g  = 0}$ has been removed and can be evaluated through a Taylor-Expansion around $\\mathrm{g  = 0}$ for a function $w^{(\\mathrm{long})}(\\textbf{r}) = \\frac{1}{|\\textbf{r}|}$ this leads to\n",
    "\n",
    "\n",
    "$$\n",
    "w^{(\\mathrm{long})}(g = 0) \\propto |\\tilde \\rho(g = 0)|^2 \\gamma + \\int d\\textbf{r} \\int d\\textbf{r'} \\rho(\\textbf{r})\\rho(\\textbf{r'}) \\frac{1}{2} [(r-r') \\overleftrightarrow{T}((r-r'))]\n",
    "$$\n",
    "\n",
    "**Check the references 13,14 Martyna Tuckerman paper!**\n",
    "**(and $\\overleftrightarrow{T}[(r-r')]$ is the depolarization tensor.)**\n",
    "\n",
    "\n",
    "with $\\gamma$ called the infinte backround which depends on the total charge density $\\tilde \\rho$ of the system. \n",
    "\n",
    "$$\n",
    "\\tilde \\rho(\\textbf{r}) = \\rho^e(\\textbf{r}) + \\rho^n(\\textbf{r}).\n",
    "$$\n",
    "\n",
    "It becomes clear that this contribtion is only existent for charged systems. This leads to the problem that energy differences between systems with periodic boundary conditions and different total charge are ill defined (**MT Paper**). The backround potential is shifting the eigenvalues of the charged system compared to the neutral system. Unfortunately we are facing exactly this problem for the calculation of vertical ionization potentials. Nevertheless a correct reference system can be a workaround for this problem.\n",
    "\n",
    "> http://aip.scitation.org/doi/abs/10.1063/1.464650\n",
    "\n",
    "\n",
    "The influence of a constant shift (like $\\gamma$)to a potential and the corresponding influence to the energy difference of two systems is shown. In the following we are assuming that $v$ corresponds to a correctly referenced potential and $\\alpha$ and $\\beta$ are constant shifts to this potential which leads to $v'$."
   ]
  },
  {
   "cell_type": "markdown",
   "metadata": {},
   "source": [
    "$$\n",
    "v_\\mathrm{A}^{\\prime}(\\textbf{r}) = v_\\mathrm{A}(\\textbf{r}) + \\alpha\n",
    "$$\n",
    "\n",
    "$$\n",
    "v_\\mathrm{B}^{\\prime}(\\textbf{r}) = v_\\mathrm{B}(\\textbf{r}) + \\beta\n",
    "$$\n"
   ]
  },
  {
   "cell_type": "markdown",
   "metadata": {},
   "source": [
    "The corresponding difference in energy assuming that $\\int d\\textbf{r} \\rho^\\mathrm{n,e} = \\pm N_\\mathrm{n,e}$, with $N^n_\\mathrm{A} = N^n_\\mathrm{B}$ and $N^e_\\mathrm{B} = N^n_\\mathrm{B}$, if the initial system is totally neutral charged, this leads to\n",
    "$$\n",
    "\\Delta E =\\left(\\int \\tilde \\rho_\\mathrm{A}(\\textbf{r}) v_\\mathrm{A}(\\textbf{r})d\\textbf{r} + N_\\mathrm{A} \\alpha\\right) - \\left(\\int \\tilde \\rho_\\mathrm{B}(\\textbf{r}) v_\\mathrm{B}(\\textbf{r})d\\textbf{r} + N_\\mathrm{B} \\beta \\right)\n",
    "$$\n",
    "\n",
    "$$\n",
    "=\\left(\\int \\tilde \\rho_\\mathrm{A}(\\textbf{r}) v_\\mathrm{A}(\\textbf{r})d\\textbf{r} + N_\\mathrm{A} \\alpha\\right) - \\left(\\int \\tilde \\rho_\\mathrm{B}(\\textbf{r}) v_\\mathrm{B}(\\textbf{r})d\\textbf{r} \\right)\n",
    "$$\n",
    "\n",
    "$$\n",
    "=\\Delta E_\\mathrm{ref} + \\left[\\alpha( N^n_\\mathrm{A} - N^e_\\mathrm{A})\\right] = \\Delta E_\\mathrm{ref} + \\alpha \\Delta.\n",
    "$$"
   ]
  },
  {
   "cell_type": "markdown",
   "metadata": {},
   "source": [
    "From the equation we can extract that the absolute value of the energy difference is only correctly referenced when $\\alpha = 0$. The relative comparison between two $\\Delta E$ ,if the exact value of $\\alpha$ is unknwon, is nevertheless possible."
   ]
  },
  {
   "cell_type": "markdown",
   "metadata": {},
   "source": []
  },
  {
   "cell_type": "markdown",
   "metadata": {},
   "source": [
    "### Analysis of the shifts:"
   ]
  },
  {
   "cell_type": "markdown",
   "metadata": {},
   "source": [
    "After introducing our embedding approach and a method to treat impurities within crystal surroundings in principle vertical IPs can be obtained. Unfortunately care has to be taken of wrong referenced energies (**see previous chaper**). In the following we are deriving expressions for the reference of $v_\\mathrm{emb}$ and $\\Delta E_\\mathrm{IP}$. The wrong referenced is caused by a different backrounds due to the $g = 0$ component of these quantities. In the following we are again assuming that $\\tilde \\rho_\\mathrm{tot} = 0$ for the not ionized system (in total uncharged system). "
   ]
  },
  {
   "cell_type": "markdown",
   "metadata": {},
   "source": [
    "First both $v_\\mathrm{emb}$ need to be analyzed. For the map of the not ionized fragement the potential for the g = 0 component can be expressed as follows:\n",
    "\n",
    "\n",
    "$$\n",
    "\\tilde \\rho^{emb}_{neu}(g=0)w_0 = \\tilde \\rho^{tot}_{neu}(g=0)w_0 - \\tilde \\rho^{I}_{neu}(g=0)w_{MT,0} \n",
    "$$\n",
    "\n",
    "$$\n",
    "=> \\tilde \\rho^{emb}_{neu}(g=0)w_0 = - \\tilde \\rho^{I}_{neu}(g=0)w_{MT,0}.\n",
    "$$"
   ]
  },
  {
   "cell_type": "markdown",
   "metadata": {},
   "source": [
    "The reference for $v_\\mathrm{emb}$ is\n",
    "\n",
    "\n",
    "$$\n",
    "\\tilde \\rho^{emb}_{imp}(g=0)w_0 = \\tilde \\rho^{tot}_{ion}(g=0)w_0 - [\\tilde \\rho^{I}_{ion}(g=0)w_{0} - \\tilde \\rho^{I}_{ion}(g=0)w_{MT,0}] + [\\tilde \\rho^{I}_{neu}(g=0)w_{0} -\\tilde \\rho^{I}_{neu}(g=0)w_{MT,0} ] - \\tilde \\rho^{I}_{ion}(g=0)w_{MT,0} \n",
    "$$\n",
    "\n",
    "$$\n",
    "=> \\tilde \\rho^{emb}_{imp}(g=0)w_0 = - \\tilde \\rho^{I}_{neu}(g=0)w_{MT,0}.\n",
    "$$"
   ]
  },
  {
   "cell_type": "markdown",
   "metadata": {},
   "source": [
    "Through comparison of both results it becomes clear that both potentials are refernced to the same backround."
   ]
  },
  {
   "cell_type": "markdown",
   "metadata": {},
   "source": [
    "* Assumption initial system: neutral\n",
    "\n",
    "* Remarks:\n",
    "\n",
    "    * $\\tilde \\rho^{tot}_{ion} = 1$\n",
    "    \n",
    "    * $\\tilde \\rho^{tot}_{neu} = 0$\n",
    "    \n",
    "    * $\\tilde \\rho_{ion} = \\tilde \\rho_{neu} + 1$"
   ]
  },
  {
   "cell_type": "markdown",
   "metadata": {},
   "source": [
    "* Embedding potentials:\n",
    "\n",
    "1) For neutral system:\n",
    "\n",
    "$$\n",
    "\\tilde \\rho^{emb}_{neu}(g=0)w_0 = \\tilde \\rho^{tot}_{neu}(g=0)w_0 - \\tilde \\rho^{I}_{neu}(g=0)w_{MT,0} \n",
    "$$\n",
    "\n",
    "$$\n",
    "=> \\tilde \\rho^{emb}_{neu}(g=0)w_0 = - \\tilde \\rho^{I}_{neu}(g=0)w_{MT,0} \n",
    "$$"
   ]
  },
  {
   "cell_type": "markdown",
   "metadata": {},
   "source": [
    "2) For impurity system:\n",
    "\n",
    "$$\n",
    "\\tilde \\rho^{emb}_{imp}(g=0)w_0 = \\tilde \\rho^{tot}_{ion}(g=0)w_0 - [\\tilde \\rho^{I}_{ion}(g=0)w_{0} - \\tilde \\rho^{I}_{ion}(g=0)w_{MT,0}] + [\\tilde \\rho^{I}_{neu}(g=0)w_{0} -\\tilde \\rho^{I}_{neu}(g=0)w_{MT,0} ] - \\tilde \\rho^{I}_{ion}(g=0)w_{MT,0} \n",
    "$$\n",
    "\n",
    "$$\n",
    "=> \\tilde \\rho^{emb}_{imp}(g=0)w_0 = - \\tilde \\rho^{I}_{neu}(g=0)w_{MT,0} \n",
    "$$\n",
    "\n",
    "**Conclusion:**\n",
    "\n",
    "The total charge density value for both embedding potentials are the same. \n",
    "\n",
    "$$\n",
    "\\tilde \\rho_{neu}^{emb}(G=0) = \\tilde \\rho_{neu}^{tot}(G=0) - \\tilde \\rho_{neu}^{I}(G=0)\n",
    "$$\n",
    "\n",
    "$$\n",
    "\\tilde \\rho_{ion}^{emb}(G=0) = \\tilde \\rho_{ion}^{tot}(G=0) - \\tilde \\rho_{ion}^{I}(G=0)\n",
    "$$\n",
    "\n",
    "$$\n",
    "<=> \\tilde \\rho_{ion}^{emb}(G=0) = \\tilde \\rho_{neu}^{tot}(G=0)+1 - \\tilde \\rho_{neu}^{I}(G=0) -1\n",
    "$$\n",
    "\n",
    "$$\n",
    "<=> \\tilde \\rho_{ion}^{emb}(G=0) = \\tilde \\rho_{neu}^{tot}(G=0)- \\tilde \\rho_{neu}^{I}(G=0)\n",
    "$$\n",
    "\n",
    "\n",
    "Due to the fact that the function $w(G)$ for G=0 also the same is leads to the conclusion that both embedding potentials are referenced correctly (not abosulte but relative to each other) if $\\tilde v_X(G=0)$ is the same for both embedding potentials. This is achieved for the embedding potentials above.\n"
   ]
  },
  {
   "cell_type": "markdown",
   "metadata": {},
   "source": [
    "1) Energydifference only for isolated system:\n",
    "\n",
    "$$\n",
    "\\Delta E_{MT}(g=0) = \\tilde \\rho^{I}_{ion}(g=0)v_{MT,ion}(g=0)-\\tilde \\rho^{I}_{neu}(g=0)v_{MT,neu}(g=0)\n",
    "$$\n",
    "\n",
    "$$\n",
    "<=> \\Delta E_{MT}(g=0) = \\tilde \\rho^{I}_{ion}(g=0)\\tilde \\rho^{I}_{ion}(g=0)w_{MT,0}-\\tilde \\rho^{I}_{neu}(g=0)\\tilde \\rho^{I}_{neu}(g=0)w_{MT,0}\n",
    "$$\n",
    "\n",
    "$$\n",
    "<=> \\Delta E_{MT}(g=0) = (\\tilde \\rho^{I}_{neu}(g=0)+1)(\\tilde \\rho^{I}_{neu}(g=0)+1)-\\tilde \\rho^{I}_{neu}(g=0)\\tilde \\rho^{I}_{neu}(g=0)w_{MT,0}\n",
    "$$\n",
    "\n",
    "$$\n",
    "<=> \\Delta E_{MT}(g=0) = (1+2\\tilde \\rho^{I}_{neu}(g=0))w_{MT,0}\n",
    "$$"
   ]
  },
  {
   "cell_type": "markdown",
   "metadata": {},
   "source": [
    "2) Energydifference only for isolated system with embedding potential and interaction energies:\n",
    "\n",
    "$$\n",
    "\\Delta E_{MT,Int}(g=0) = \\tilde \\rho^{I}_{ion}(g=0)v_{MT,ion}(g=0)-\\tilde \\rho^{I}_{neu}(g=0)v_{MT,neu}(g=0) + \\tilde \\rho^{I}_{ion}(g=0)v_{emb,imp}(g=0)-\\tilde \\rho^{I}_{neu}(g=0)v_{emb}(g=0)\n",
    "$$\n",
    "\n",
    "$$\n",
    "<=> \\Delta E_{MT,Int}(g=0) = (1+2\\tilde \\rho^{I}_{neu}(g=0))w_{MT,0} + \\tilde \\rho^{I}_{ion}(g=0)v_{emb,imp}(g=0)-\\tilde \\rho^{I}_{neu}(g=0)v_{emb}(g=0)\n",
    "$$\n",
    "\n",
    "$$\n",
    "<=> \\Delta E_{MT,Int}(g=0) = (1+2\\tilde \\rho^{I}_{neu}(g=0))w_{MT,0} + v_{emb,imp}(g=0) + \\tilde \\rho^{I}_{neu}(g=0)v_{emb,imp}(g=0)-\\tilde \\rho^{I}_{neu}(g=0)v_{emb}(g=0)\n",
    "$$\n",
    "\n",
    "$$\n",
    "<=> \\Delta E_{MT,Int}(g=0) = (1+2\\tilde \\rho^{I}_{neu}(g=0))w_{MT,0}  - \\tilde \\rho^{I}_{neu}(g=0)w_{MT,0}  + \\tilde \\rho^{I}_{neu}(g=0)(- \\tilde \\rho^{I}_{neu}(g=0)w_{MT,0}) -\\tilde \\rho^{I}_{neu}(g=0)(- \\tilde \\rho^{I}_{neu}(g=0)w_{MT,0} (g=0))\n",
    "$$\n",
    "\n",
    "$$\n",
    "<=> \\Delta E_{MT,Int}(g=0) = (1+2\\tilde \\rho^{I}_{neu}(g=0))w_{MT,0}  - \\tilde \\rho^{I}_{neu}(g=0)w_{MT,0}  - \\tilde \\rho^{I}_{neu}(g=0) \\tilde \\rho^{I}_{neu}(g=0)w_{MT,0} + \\tilde \\rho^{I}_{neu}(g=0) \\tilde \\rho^{I}_{neu}(g=0)w_{MT,0} (g=0)\n",
    "$$\n",
    "\n",
    "$$\n",
    "<=> \\Delta E_{MT,Int}(g=0) = (1+2\\tilde \\rho^{I}_{neu}(g=0))w_{MT,0}  - \\tilde \\rho^{I}_{neu}(g=0)w_{MT,0} = (1+\\tilde \\rho^{I}_{neu}(g=0))w_{MT,0}\n",
    "$$"
   ]
  },
  {
   "cell_type": "code",
   "execution_count": null,
   "metadata": {
    "collapsed": true
   },
   "outputs": [],
   "source": []
  }
 ],
 "metadata": {
  "kernelspec": {
   "display_name": "Python 3",
   "language": "python",
   "name": "python3"
  },
  "language_info": {
   "codemirror_mode": {
    "name": "ipython",
    "version": 3
   },
   "file_extension": ".py",
   "mimetype": "text/x-python",
   "name": "python",
   "nbconvert_exporter": "python",
   "pygments_lexer": "ipython3",
   "version": "3.6.3"
  }
 },
 "nbformat": 4,
 "nbformat_minor": 2
}
