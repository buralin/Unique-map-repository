{
 "cells": [
  {
   "cell_type": "markdown",
   "metadata": {},
   "source": [
    "# Definitions\n",
    "\n",
    "## The potentials & energies at play\n",
    "$v_{neu}(r)$ and $v_{ion}(r)$ are two external potentials. They represent interactions with the system of interest, and are associated with the following interaction energy:\n",
    "\n",
    "$$\n",
    "E_{neu}^{int} = \\int \\rho_{neu}(r) v_{neu}(r)dr.\n",
    "$$\n",
    "\n",
    "## Electron and Nuclear densities\n",
    "In the above \n",
    "$$\n",
    "\\rho_{neu}(r) = \\rho^e_{neu}(r) + \\rho^n_{neu}(r),\n",
    "$$\n",
    "that is the total charge density is the sum of electron and nuclear charge densities.\n",
    "\n",
    "The electron **charge density** is defined as follows:\n",
    "$$\n",
    "\\rho^e(r) = -\\langle \\Psi \\big| \\sum_i f_i \\delta(r-r_i) \\big| \\Psi \\rangle = - \\sum_i f_i \\big|\\phi_i(r)\\big|^2  \n",
    "$$\n",
    "where $r$ is the 3-dimensional position in space and $r_i$ is the coordinate of the $i$-th electron, $\\phi_i$ are molecular orbitals (or bands in case of solids) and $f_i$ are orbital occupations.\n",
    "\n",
    "The nuclear **charge density** is \n",
    "\n",
    "$$\n",
    "\\rho^n(r) = \\langle \\Psi \\big|\\sum_\\alpha Z_\\alpha \\delta(r-R_\\alpha) \\big| \\Psi \\rangle \\simeq \\sum_\\alpha Z_\\alpha \\delta(r-R_\\alpha),\n",
    "$$\n",
    "where $Z_\\alpha$ are the nuclear charges.\n",
    "\n",
    "\n",
    "\n",
    "# Specific case: Ionization Potential\n",
    "\n",
    "## External (embedding) potentials \n",
    "Potentials may be evaluated with an unknown reference. Typically, Coulomb interactions are taken to be zero at infinite separation of the charged particles. However, for technical reasons, this may not be the case in practical calculations. Thus, for the ionized system we have:\n",
    "$$\n",
    "v_{ion}^{\\prime}(r) = v_{ion}(r) + \\alpha\n",
    "$$\n",
    "\n",
    "The non-ionized system:\n",
    "$$\n",
    "v_{neu}^{\\prime}(r) = v_{neu}(r) + \\beta\n",
    "$$\n",
    "where the primed quantities are taken to have an unknown reference while the nonprimed quantities are referenced correctly (which ever that reference may be). To map between the primed and nonprimed quantities we need to add an appropriate constant that will be dependent only on the lattice vectors used in the simulation box and the amount of charged particles in the simulations. These are $\\alpha$ and $\\beta$, which are taken to be arbitrary real constants.\n",
    "\n",
    "## Interaction environment-electrons\n",
    "$$\n",
    "\\Delta E^{e}=\\left(\\int \\rho^e_{neu}(r) v_{neu}(r)dr - N^e_{neu} \\beta \\right) - \\left(\\int \\rho^e_{ion}(r) v_{ion}(r)dr - N^e_{ion} \\alpha\\right)\n",
    "$$\n",
    "## Interaction environment-nuclei\n",
    "$$\n",
    "\\Delta E^{n}=\\left(\\int \\rho^n_{neu}(r) v_{neu}(r)dr + N^n_{neu} \\beta \\right) - \\left(\\int \\rho^n_{ion}(r) v_{ion}(r)dr + N^n_{ion} \\alpha\\right)\n",
    "$$\n"
   ]
  },
  {
   "cell_type": "markdown",
   "metadata": {},
   "source": [
    "## Contribution to IP, $\\Delta E$\n",
    "$$\n",
    "\\Delta E = \\Delta E^e + \\Delta E^n = \\Delta E_{ref} + \n",
    "\\left( \n",
    "N^n_{neu} \\beta - N^n_{ion}\\alpha -N^e_{neu}\\beta + N^e_{ion}\\alpha \n",
    "\\right),\n",
    "$$\n",
    "where $\\Delta E_{ref}$ is the contribution to IP from correctly referenced potentials.\n",
    "\n",
    "Knowing that $N^e_{neu} = N^n_{neu}=N^n_{ion}$, it simplifies to\n",
    "$$\n",
    "\\Delta E = \\Delta E_{ref} + \\alpha \\Delta n,\n",
    "$$\n",
    "where $\\Delta n=N^e_{ion} -N^e_{neu}=1$ for calculations of the **first IP**."
   ]
  },
  {
   "cell_type": "markdown",
   "metadata": {},
   "source": [
    "# Analysis of the shifts from the embedding potentials\n",
    "\n",
    "### Assumption 1: \n",
    "The embedding potentials can be written in Fourier space (i.e., reciprocal $G$ space) as:\n",
    "$$\n",
    "\\tilde v_X (G) = \\tilde \\rho_X^{emb}(G) ~ w(G),\n",
    "$$\n",
    "where $X$ can either be $neu$ or $ion$. Quantities with a tilde are Fourier transformed ones, and $w(G)$ is the appropriate Fourier transform of the Coulomb two-body potential. It is interesting to note that $w(G)=\\frac{4\\pi}{G^2}$ if the Coulomb interaction is non periodic, while it takes a different form (typically expanded in Fourier components) if the interaction is periodic.\n",
    "\n",
    "### Assumption 2:\n",
    "The Coulomb interaction can be evaluated at $G=0$, i.e., $w(G=0)=w_0$. While this is not possible for the nonperiodic case (e.g., when $w(G)=\\frac{4\\pi}{G^2}$), it is possible in any other periodic cases.\n"
   ]
  },
  {
   "cell_type": "markdown",
   "metadata": {},
   "source": [
    "### Neutral environments\n",
    "$\\tilde \\rho_X^{emb}(G=0)=0$, thus we expect no shifts in the embedded region from the embedding potential. This is independent of $X=neu$ or $X=ion$ because we are using Johannes' map method."
   ]
  },
  {
   "cell_type": "markdown",
   "metadata": {},
   "source": [
    "### Charged environments\n",
    "If $\\tilde \\rho_X^{emb}(G=0)=\\Delta n$, then the embedding potential will carry a shift of size $w_0\\Delta n$. This shift is physical and should be included in the calculations. "
   ]
  },
  {
   "cell_type": "markdown",
   "metadata": {},
   "source": [
    "# Practical calculations -- `please check this`\n",
    "\n",
    "Unfortunately, in practice:\n",
    "$$\n",
    "\\tilde v_X (G=0) = 0.\n",
    "$$\n",
    "This means that the calculations with charged environments do not feature the correct shift. Specifically, the embedding potential would be missing the $w_0\\Delta n$ shift which should be added for consistency.\n",
    "\n",
    "From the equations above, to introduce this shift we should:\n",
    "$$\n",
    "\\Delta E_{ref} = \\Delta E - ( - \\Delta n^2 w_0 ) = \\Delta E + \\Delta n^2 w_0.\n",
    "$$\n",
    "If the calculation only requests the **first IP**, then $\\Delta n=1$, and *$w_0$ needs to be chosen*."
   ]
  }
 ],
 "metadata": {
  "kernelspec": {
   "display_name": "Python 3",
   "language": "python",
   "name": "python3"
  },
  "language_info": {
   "codemirror_mode": {
    "name": "ipython",
    "version": 3
   },
   "file_extension": ".py",
   "mimetype": "text/x-python",
   "name": "python",
   "nbconvert_exporter": "python",
   "pygments_lexer": "ipython3",
   "version": "3.6.3"
  }
 },
 "nbformat": 4,
 "nbformat_minor": 2
}
