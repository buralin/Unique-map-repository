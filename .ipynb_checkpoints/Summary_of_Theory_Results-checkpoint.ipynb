{
 "cells": [
  {
   "cell_type": "markdown",
   "metadata": {},
   "source": [
    "### Introduction:"
   ]
  },
  {
   "cell_type": "markdown",
   "metadata": {},
   "source": [
    "We introduce a new embedding approach of periodic systems onto a nonperiodic isolated environment through subsystem-DFT (Frozen Denisty Embedding method (FDE)). Furthermore we use this approach to calculate the ionzation potential (IP) of an ionic crystal relative to the isolated calculation. For this we introduce a new formalism to evaluate total energies for charged systems. We show the usage of our method through the calculation of IPs for NaCl with an increasing system size. A long the way we are clearifying the procedure of periodic in nonperiodic embedding apporaches which in our opinion isn't always the case."
   ]
  },
  {
   "cell_type": "markdown",
   "metadata": {},
   "source": [
    "### Theory:"
   ]
  },
  {
   "cell_type": "markdown",
   "metadata": {},
   "source": [
    "The following theory is structured as follows. At first a short introduction into the Martyna-Tuckerman-Method is done. In the next step we are introducing our periodic in nonperiodic embedding method. Furthermore we introduce a way to treat impurities inside a crystal surrounding. In the end we are showing how to calculate ionization potential through the methods introduced before and also discuss, what the main problems of periodic coulomb interactions are and how we handle these interactions in the embedding scheme. Especially we are discussing energy contribution from the $g = 0$ component. "
   ]
  },
  {
   "cell_type": "markdown",
   "metadata": {},
   "source": [
    "### Martyna-Tuckerman Method:"
   ]
  },
  {
   "cell_type": "markdown",
   "metadata": {},
   "source": [
    "* ***Paper:***\n",
    "\n",
    "> http://aip.scitation.org/doi/abs/10.1063/1.477923 (original paper)\n",
    "\n",
    "> http://aip.scitation.org/doi/abs/10.1063/1.3662863 (summary paper)\n",
    "\n",
    "> http://aip.scitation.org/doi/pdf/10.1063/1.2335442 (Efficient solution of Poisson’s equation with free boundary conditions)\n",
    "\n",
    "> http://aip.scitation.org/doi/pdf/10.1063/1.2754685 (Efficient and accurate three-dimensional Poisson solver for surface problems)\n",
    "\n",
    "> https://journals.aps.org/prb/pdf/10.1103/PhysRevB.90.245101 (Oliviero Andreussi/ Electrostatics of solvated systems in periodic boundary conditions)\n",
    "\n",
    "* ***Description:***\n",
    "\n",
    "\n",
    "Martyna-Tuckerman introduced a method based on a reciprocal space formalism for treating longrange interactions in cluster systems. This method is based on a screening function approach. Allthough there are different real space approaches (**Cite the approaches**) developed to correct the electronic potential, the Martyna-Tuckerman method is computational very cheap and is easily compatible/ implementable or already implemented in existing plane wave quantum chemistry programs (**QE**)."
   ]
  },
  {
   "cell_type": "markdown",
   "metadata": {},
   "source": [
    "The Martyna-Tuckerman method can be understood as a method which makes a Kernel $w(r)$ periodic about a single simulation cell through the usage of the first/ nearest image form.\n",
    "\n",
    "The average cluster energy of $w(r)$ for a plane wave expansion can be expressed as follwos \n",
    "\n",
    "$$\n",
    "<E>^{(1)} = \\frac{1}{2V} \\sum_{g} |\\bar n(g)|^2 \\bar w(-g)\n",
    "$$\n",
    "\n",
    "In this case $\\bar w(g)$ is the Fourier Transform of the function $w(r)$ within the first image form. The corresponding Fouriertransform over all space will be referred as $\\tilde{w}(g)$ in the following. This energy expression for a cluster system is only correct, if the product of densities and observables is zero at the boundary of the cluster. For this reason care has to be taken for the size dependency of $<E>^{1}$.\n",
    "\n",
    "In the following we are considering the coulomb interactions causing undesired longrange interactions between unit cells. For this reason $w(r)$ can be devided in short and longrange part controlled by a parameter $\\alpha$.\n",
    "\n",
    "$$\n",
    "w(r) = w(r)^\\mathrm{(short)}+w(r)^{\\mathrm{(long)}} = \\frac{erf(\\alpha r)}{r} + \\frac{erfc(\\alpha r)}{r} \n",
    "$$\n",
    "\n",
    "This leads to the following finite fourier transforms in reciprocal space\n",
    "\n",
    "$$\n",
    "\\bar{w}(g) = \\bar{w}(g)^\\mathrm{(short)}+\\bar{w}(g)^{\\mathrm{(long)}}.\n",
    "$$\n",
    "\n",
    "It is assumed that $\\tilde{w}(g)^\\mathrm{(short)} = \\bar{w}(g)^\\mathrm{(short)} + \\epsilon(g)$ with a small error $\\epsilon$ which is converging exponentially for a sufficent cell cize."
   ]
  },
  {
   "cell_type": "markdown",
   "metadata": {},
   "source": [
    "This leads to\n",
    "\n",
    "$$\n",
    "\\bar{w}(g) = \\tilde{w}(g)^\\mathrm{(short)}+\\bar{w}(g)^{\\mathrm{(long)}}\n",
    "$$\n",
    "\n",
    "and finally to \n",
    "\n",
    "$$\n",
    "\\bar{w}(g) = \\tilde{w}(g)^\\mathrm{(short)}+\\bar{w}(g)^{\\mathrm{(long)}}\n",
    "$$\n",
    "\n",
    "$$\n",
    "= \\tilde{w}(g)^\\mathrm{(short)} + \\tilde{w}(g)^\\mathrm{(long)} + [\\bar{w}(g)^{\\mathrm{(long)}} - \\tilde{w}(g)^\\mathrm{(long)}]\n",
    "$$\n",
    "\n",
    "$$\n",
    "= \\tilde{w}(g) + \\hat{w}(g)^{\\mathrm{(screen)}}\n",
    "$$\n",
    "\n",
    "In **number of formular** a screening function $\\hat{w}(g)^{\\mathrm{(screen)}}$ is introduced which can be interpreted as function which cuts off interaction with neighbouring cells. At this point the main advantages of this reciprocal space based approach becomes clear. On the one hand $\\tilde{w}(g)$ is the regular Greensfunction as a solution of the poisson equation which is evaluated by default in **QE**. Furthermore $\\bar{w}(g)^{\\mathrm{(long)}}$ can be obtained numerically and standard FFT techniques can be used. Furthermore $\\bar{w}(g)^{\\mathrm{(long)}}$ can be calculated only once and can be stored in memory for the rest of the calculation.\n",
    "\n",
    "We want to mention that a special care has to be taken for the evaluating the $g = 0$ and $r = 0$ component for coulomb systems. For the  $r = 0$ component we are reffering the reader to Appendix B in the MT paper. In the case of the $g = 0$ component a detailed discussion will be done later."
   ]
  },
  {
   "cell_type": "markdown",
   "metadata": {},
   "source": [
    "### Periodic in nonperiodic embedding:"
   ]
  },
  {
   "cell_type": "markdown",
   "metadata": {},
   "source": [
    "#### Embedding of periodic system onto finite systems:\n",
    "\n",
    "\n",
    "* ***Paper:***\n",
    "\n",
    "> **Johannes/ Christoph**: 1) http://onlinelibrary.wiley.com/doi/10.1002/wcms.1175/full (Subsystem DFT Review Neugebauer/ Jacob)\n",
    "\n",
    "> **Michele s-DFT**: 1)iopscience.iop.org/artichttp://iopscience.iop.org/article/10.1088/0953-8984/27/18/183202/pdfle/10.1088/0953-8984/27/18/183202/pdf (Subsystem DFT Review Michele/ Alisa et al.; condensed matter) // 2) http://onlinelibrary.wiley.com/doi/10.1002/qua.25401/pdf (eQE Paper)// 3) http://aip.scitation.org/doi/pdf/10.1063/1.4897559 (periodic subsystem DFT)\n",
    "\n",
    "> **PDFT:** 1) J. Nafziger and A. Wasserman, J. Phys. Chem. A 118, 7623 (2014) // 2) P. Elliott, K. Burke, M. H. Cohen, and A. Wasserman, Phys. Rev. A\n",
    "82, 024501 (2010) // 3) M. H. Cohen and A. Wasserman, J. Phys. Chem. A 111, 2229 (2007) // 4) R. Tang, J. Nafziger, and A. Wasserman, Phys. Chem. Chem. Phys.\n",
    "14, 7780 (2012) // M. H. Cohen, A. Wasserman, R. Car, and K. Burke, J. Phys. Chem.\n",
    "A 113, 2183 (2009)\n",
    "\n",
    "> **Embedding theory Carter/ Huang/ Libisch**: 1) F. Libisch, C. Huang, and E. A. Carter, Acc. Chem. Res. 47, 2768\n",
    "(2014) // 2) C. Huang and E. A. Carter, J. Chem. Phys. 135, 194104 (2011) // 3)  F. Libisch, C. Huang, P. Liao, M. Pavone, and E. A. Carter, Phys. Rev. Lett. 109, 198303 (2012)\n",
    "\n",
    "> **Cortona-Paper:** 1) https://journals.aps.org/prb/pdf/10.1103/PhysRevB.44.8454 (Self-consistently determined properties of solids without band-structure calculations) // 2) http://onlinelibrary.wiley.com/doi/10.1002/qua.560520424/pdf (Self-Consistent Calculations of Total Energies and Charge Densities of Solids Without Solving the Band-Structure Problem)\n",
    "\n",
    "> **Weselowski Paper**: 1) http://pubs.acs.org/doi/pdf/10.1021/j100132a040 (Frozen Density  Functional Approach for ab Initio \n",
    "Calculations of Solvated Molecules)"
   ]
  },
  {
   "cell_type": "markdown",
   "metadata": {},
   "source": [
    "* ***Description:***\n",
    "\n",
    "In the literature a variety of embedding approaches has been proposed. Although these show different ideas, the main idea is to partition the whole system of interest into different subsystems. This concept gives alot of advantages compared to regular KS-DFT. In the context of frozen density embedding (FDE) big system can be computationally reachable within a reasonable amount of time. Furthermore embedding approaches can be used in a DFT in DFT or WF in DFT context. Through a relative inexpansive but still reasonable calulation of the enviromnet an embeddig potential $v_\\mathrm{emb}$, which describes the interaction from the enviromnet onto the subsystem, can be obtained. The actual subsystem of interest can then be treated on a higher level of theory. "
   ]
  },
  {
   "cell_type": "markdown",
   "metadata": {},
   "source": [
    "In general two program approaches are used in electronic structure calculations. On the one hand codes with a molecular basis set and on the other hand codes with periodic boundary conditions are developed. We are presenting a new way of obtaining an $v_\\mathrm{emb}$ self consistently from a plane wave code. This embedding potential can then be used in a calculation of a finite system to obtain the quantity of interest. The starting point to calculate $v_\\mathrm{emb}$ is a subsystem DFT calculation with the FDE method."
   ]
  },
  {
   "cell_type": "markdown",
   "metadata": {},
   "source": [
    "The advantage of calculating an embedding potential from this procedure is the possibility to describe the environment of even larger systems due to the reduced computational cost. In addition the subsystems are already assigned in the beginning of the calculation and, in principle, the embedding potential from each subsystem can be obtained. Furthermore the nonadditive kinetic energy $T_\\mathrm{s}^\\mathrm{nad}[\\{\\rho\\}]$is already included in the calculation and can be easily taken into account in the calculation of $v_\\mathrm{emb}$."
   ]
  },
  {
   "cell_type": "markdown",
   "metadata": {},
   "source": [
    "In the literature no special care is taken about different type of periodic embedding potential. It has to be pointed out that in order to get a nonperiodic $v_\\mathrm{emb}$ from a periodic calculation the interaction from the replicas onto the isolated fragment of interst hast to be obtained. In general the main unfluence is due to the longrange coulomb interaction. Because of this reason we are using the MT method to represent the electrostatics of an isolated fragment. This leads to the following definition of our $v_\\mathrm{emb}$:\n",
    "\n",
    "$$\n",
    "v_\\mathrm{emb} = v_\\mathrm{eff, I}[\\{\\rho\\}] - v_\\mathrm{MT,I}[\\rho_\\mathrm{I}]\n",
    "$$\n",
    "\n",
    "In which the $v_\\mathrm{eff,I}$ can be expressed\n",
    "\n",
    "$$\n",
    "v_\\mathrm{eff, I}[\\{\\rho\\}] = v_\\mathrm{H}[\\rho_\\mathrm{tot}] +  v_\\mathrm{loc}(r) + \\sum_\\mathrm{i}^\\mathrm{N_s}v_\\mathrm{XC}[\\{\\rho_i\\}] + \\sum_\\mathrm{i}^\\mathrm{N_s}v_\\mathrm{T_\\mathrm{s}}[\\{\\rho_i\\}] + \\sum_\\mathrm{i}^\\mathrm{N_s}v_\\mathrm{nadd}[\\{\\rho_i\\}]\n",
    "$$\n",
    "\n",
    "and $v_\\mathrm{MT,I}[\\rho_\\mathrm{I}]$ corresponds to\n",
    "\n",
    "\n",
    "$$\n",
    "v_\\mathrm{MT, I}[\\rho_\\mathrm{I}] = v_\\mathrm{H,MT}[\\rho_\\mathrm{I}] +  v_\\mathrm{loc,MT}(r) + v_\\mathrm{XC}[\\rho_\\mathrm{I}] + v_\\mathrm{T_\\mathrm{s}}[\\rho_\\mathrm{I}].\n",
    "$$\n",
    "\n",
    "\n",
    "It becomes clear that the idea of obtaining the embedding potential is closely related to the FDE scheme. An illustration for a single water molecule is illustrated in the follwing:"
   ]
  },
  {
   "cell_type": "markdown",
   "metadata": {},
   "source": [
    "<img align=\"middle\" src=\"water_komplett.png\" width = \"500\"> \n",
    "\n",
    "**Fig.1:** Illustration of periodic embedding (left) and nonperiodic embedding (right) within periodic boundary conditions for one water subsystem."
   ]
  },
  {
   "cell_type": "markdown",
   "metadata": {},
   "source": [
    "In fig. 1 a similar embedding scheme for one water molecule is shown, on the left without the MT correction for  $v_\\mathrm{H}[\\rho_\\mathrm{I}]$ and $v_\\mathrm{loc}(r)$ and on the right side with the correction. This leads to numerical noise at the left and on the right we can see the influence of the periodic replicas onto this one fragment which leads to dipolmoment."
   ]
  },
  {
   "cell_type": "markdown",
   "metadata": {},
   "source": [
    "The versaitility "
   ]
  },
  {
   "cell_type": "markdown",
   "metadata": {},
   "source": []
  },
  {
   "cell_type": "markdown",
   "metadata": {},
   "source": []
  },
  {
   "cell_type": "markdown",
   "metadata": {},
   "source": []
  },
  {
   "cell_type": "markdown",
   "metadata": {},
   "source": [
    "### The impurity problem:"
   ]
  },
  {
   "cell_type": "markdown",
   "metadata": {},
   "source": [
    "* ***Paper:***\n",
    "\n",
    "\n",
    "* ***Description***\n",
    "\n",
    "Me present a 'half coupled'-method to treat impurities in a crystal surrounding. \n"
   ]
  },
  {
   "cell_type": "markdown",
   "metadata": {},
   "source": [
    "### Electrostatics in periodic systems:"
   ]
  },
  {
   "cell_type": "markdown",
   "metadata": {},
   "source": []
  },
  {
   "cell_type": "markdown",
   "metadata": {},
   "source": [
    "### Calculation of IPs for periodic systems:"
   ]
  },
  {
   "cell_type": "markdown",
   "metadata": {},
   "source": [
    "\n",
    "$$\n",
    "E^\\mathrm{IP} = E^\\mathrm{ion} - E^\\mathrm{neu}\n",
    "$$"
   ]
  },
  {
   "cell_type": "markdown",
   "metadata": {},
   "source": [
    "### Energy shifts due to external (embedding) potentials:"
   ]
  },
  {
   "cell_type": "markdown",
   "metadata": {},
   "source": [
    "The calculation of IPs in periodic systems is not as straight forward as presented in **Section before**. The Kernel for the Coulomb potential in reciprocal is given throug the Poisson equation as"
   ]
  },
  {
   "cell_type": "markdown",
   "metadata": {},
   "source": [
    "$$\n",
    "w_\\mathrm{coul} \\propto \\sum_\\mathrm{g \\neq 0} \\frac{4 \\pi}{g^2} e^{igr}.\n",
    "$$"
   ]
  },
  {
   "cell_type": "markdown",
   "metadata": {},
   "source": [
    "The Kernel defined in **NUMBER OF Formular** shows a singularity for the $\\mathrm{g  = 0}$ component. However, the coulomb interaction energy can in prinicple devided into a purely long and short range part (**Martyna-Tuckerman paper**). In this case the singularity for $\\mathrm{g  = 0}$ has been removed and can be evaluated through a Taylor-Expansion around $\\mathrm{g  = 0}$ for a function $w^{(\\mathrm{long})}(\\textbf{r}) = \\frac{1}{|\\textbf{r}|}$ this leads to\n",
    "\n",
    "\n",
    "$$\n",
    "w^{(\\mathrm{long})}(g = 0) \\propto |\\tilde \\rho(g = 0)|^2 \\gamma + \\int d\\textbf{r} \\int d\\textbf{r'} \\rho(\\textbf{r})\\rho(\\textbf{r'}) \\frac{1}{2} [(r-r') \\overleftrightarrow{T}((r-r'))]\n",
    "$$\n",
    "\n",
    "**Check the references 13,14 Martyna Tuckerman paper!**\n",
    "**(and $\\overleftrightarrow{T}[(r-r')]$ is the depolarization tensor.)**\n",
    "\n",
    "\n",
    "with $\\gamma$ called the infinte backround which depends on the total charge density $\\tilde \\rho$ of the system. \n",
    "\n",
    "$$\n",
    "\\tilde \\rho(\\textbf{r}) = \\rho^e(\\textbf{r}) + \\rho^n(\\textbf{r}).\n",
    "$$\n",
    "\n",
    "It becomes clear that this contribtion is only existent for charged systems. This leads to the problem that energy differences between systems with periodic boundary conditions and different total charge are ill defined (**MT Paper**). The backround potential is shifting the eigenvalues of the charged system compared to the neutral system. Unfortunately we are facing exactly this problem for the calculation of vertical ionization potentials. Nevertheless a correct reference system can be a workaround for this problem.\n",
    "\n",
    "> http://aip.scitation.org/doi/abs/10.1063/1.464650\n",
    "\n",
    "\n",
    "The influence of a constant shift (like $\\gamma$)to a potential and the corresponding influence to the energy difference of two systems is shown. In the following we are assuming that $v$ corresponds to a correctly referenced potential and $\\alpha$ and $\\beta$ are constant shifts to this potential which leads to $v'$."
   ]
  },
  {
   "cell_type": "markdown",
   "metadata": {},
   "source": [
    "$$\n",
    "v_\\mathrm{A}^{\\prime}(\\textbf{r}) = v_\\mathrm{A}(\\textbf{r}) + \\alpha\n",
    "$$\n",
    "\n",
    "$$\n",
    "v_\\mathrm{B}^{\\prime}(\\textbf{r}) = v_\\mathrm{B}(\\textbf{r}) + \\beta\n",
    "$$\n"
   ]
  },
  {
   "cell_type": "markdown",
   "metadata": {},
   "source": [
    "The corresponding difference in energy assuming that $\\int d\\textbf{r} \\rho^\\mathrm{n,e} = \\pm N_\\mathrm{n,e}$, with $N^n_\\mathrm{A} = N^n_\\mathrm{B}$ and $N^e_\\mathrm{B} = N^n_\\mathrm{B}$, if the initial system is totally neutral charged, this leads to\n",
    "$$\n",
    "\\Delta E =\\left(\\int \\tilde \\rho_\\mathrm{A}(\\textbf{r}) v_\\mathrm{A}(\\textbf{r})d\\textbf{r} + N_\\mathrm{A} \\alpha\\right) - \\left(\\int \\tilde \\rho_\\mathrm{B}(\\textbf{r}) v_\\mathrm{B}(\\textbf{r})d\\textbf{r} + N_\\mathrm{B} \\beta \\right)\n",
    "$$\n",
    "\n",
    "$$\n",
    "=\\left(\\int \\tilde \\rho_\\mathrm{A}(\\textbf{r}) v_\\mathrm{A}(\\textbf{r})d\\textbf{r} + N_\\mathrm{A} \\alpha\\right) - \\left(\\int \\tilde \\rho_\\mathrm{B}(\\textbf{r}) v_\\mathrm{B}(\\textbf{r})d\\textbf{r} \\right)\n",
    "$$\n",
    "\n",
    "$$\n",
    "=\\Delta E_\\mathrm{ref} + \\left[\\alpha( N^n_\\mathrm{A} - N^e_\\mathrm{A})\\right] = \\Delta E_\\mathrm{ref} + \\alpha \\Delta.\n",
    "$$"
   ]
  },
  {
   "cell_type": "markdown",
   "metadata": {},
   "source": [
    "From the equation we can extract that the absolute value of the energy difference is only correctly referenced when $\\alpha = 0$. The relative comparison between two $\\Delta E$ ,if the exact value of $\\alpha$ is unknwon, is nevertheless possible."
   ]
  },
  {
   "cell_type": "markdown",
   "metadata": {},
   "source": []
  },
  {
   "cell_type": "markdown",
   "metadata": {},
   "source": [
    "### Analysis of the shifts:"
   ]
  },
  {
   "cell_type": "markdown",
   "metadata": {},
   "source": [
    "After introducing our embedding approach and a method to treat impurities within crystal surroundings in principle vertical IPs can be obtained. Unfortunately care has to be taken of wrong referenced energies (**see previous chaper**). In the following we are deriving expressions for the reference of $v_\\mathrm{emb}$ and $\\Delta E_\\mathrm{IP}$. The wrong referenced is caused by a different backrounds due to the $g = 0$ component of these quantities. In the following we are again assuming that $\\tilde \\rho_\\mathrm{tot} = 0$ for the not ionized system (in total uncharged system). For the total charge denisties the follwoinng applies:\n",
    "\n",
    "\n",
    "* $\\tilde \\rho^{tot}_{ion} = c$\n",
    "   \n",
    "* $\\tilde \\rho^{tot}_{neu} = 0$\n",
    "  \n",
    "* $\\tilde \\rho_{ion} = \\tilde \\rho_{neu} + c$"
   ]
  },
  {
   "cell_type": "markdown",
   "metadata": {},
   "source": [
    "First both $v_\\mathrm{emb}$ need to be analyzed. For the map of the not ionized fragement the potential for the g = 0 component can be expressed as follows:\n",
    "\n",
    "\n",
    "$$\n",
    "\\tilde \\rho^{emb}_{neu}(g=0)w_0 = \\tilde \\rho^{tot}_{neu}(g=0)w_0 - \\tilde \\rho^{I}_{neu}(g=0)w_{MT,0} \n",
    "$$\n",
    "\n",
    "$$\n",
    "=> \\tilde \\rho^{emb}_{neu}(g=0)w_0 = - \\tilde \\rho^{I}_{neu}(g=0)w_{MT,0}.\n",
    "$$"
   ]
  },
  {
   "cell_type": "markdown",
   "metadata": {},
   "source": [
    "The reference for $v^\\mathrm{imp}_\\mathrm{emb}$ is\n",
    "\n",
    "\n",
    "$$\n",
    "\\tilde \\rho^{emb}_{imp}(g=0)w_0 = \\tilde \\rho^{tot}_{ion}(g=0)w_0 - [\\tilde \\rho^{I}_{ion}(g=0)w_{0} - \\tilde \\rho^{I}_{ion}(g=0)w_{MT,0}] + [\\tilde \\rho^{I}_{neu}(g=0)w_{0} -\\tilde \\rho^{I}_{neu}(g=0)w_{MT,0} ] - \\tilde \\rho^{I}_{ion}(g=0)w_{MT,0} \n",
    "$$\n",
    "\n",
    "$$\n",
    "=  c w_0 - (\\tilde \\rho_{neu}(g = 0) + c)w_{0} + [\\tilde \\rho^{I}_{neu}(g=0)w_{0} -\\tilde \\rho^{I}_{neu}(g=0)w_{MT,0} ]\n",
    "$$\n",
    "\n",
    "$$\n",
    "=  c w_0 - (\\tilde \\rho_{neu}(g = 0) + c)w_{0} + [\\tilde \\rho^{I}_{neu}(g=0)w_{0} -\\tilde \\rho^{I}_{neu}(g=0)w_{MT,0} ]\n",
    "$$\n",
    "\n",
    "$$\n",
    "= -\\tilde \\rho^{I}_{neu}(g=0)w_{MT,0}\n",
    "$$"
   ]
  },
  {
   "cell_type": "markdown",
   "metadata": {},
   "source": [
    "Through comparison of both results it becomes clear that both potentials are refernced to the same backround."
   ]
  },
  {
   "cell_type": "markdown",
   "metadata": {},
   "source": [
    "* Assumption initial system: neutral\n",
    "\n",
    "* Remarks:\n",
    "\n",
    "    * $\\tilde \\rho^{tot}_{ion} = 1$\n",
    "    \n",
    "    * $\\tilde \\rho^{tot}_{neu} = 0$\n",
    "    \n",
    "    * $\\tilde \\rho_{ion} = \\tilde \\rho_{neu} + 1$"
   ]
  },
  {
   "cell_type": "markdown",
   "metadata": {},
   "source": [
    "* Embedding potentials:\n",
    "\n",
    "1) For neutral system:\n",
    "\n",
    "$$\n",
    "\\tilde \\rho^{emb}_{neu}(g=0)w_0 = \\tilde \\rho^{tot}_{neu}(g=0)w_0 - \\tilde \\rho^{I}_{neu}(g=0)w_{MT,0} \n",
    "$$\n",
    "\n",
    "$$\n",
    "=> \\tilde \\rho^{emb}_{neu}(g=0)w_0 = - \\tilde \\rho^{I}_{neu}(g=0)w_{MT,0} \n",
    "$$"
   ]
  },
  {
   "cell_type": "markdown",
   "metadata": {},
   "source": [
    "2) For impurity system:\n",
    "\n",
    "$$\n",
    "\\tilde \\rho^{emb}_{imp}(g=0)w_0 = \\tilde \\rho^{tot}_{ion}(g=0)w_0 - [\\tilde \\rho^{I}_{ion}(g=0)w_{0} - \\tilde \\rho^{I}_{ion}(g=0)w_{MT,0}] + [\\tilde \\rho^{I}_{neu}(g=0)w_{0} -\\tilde \\rho^{I}_{neu}(g=0)w_{MT,0} ] - \\tilde \\rho^{I}_{ion}(g=0)w_{MT,0} \n",
    "$$\n",
    "\n",
    "$$\n",
    "=> \\tilde \\rho^{emb}_{imp}(g=0)w_0 = - \\tilde \\rho^{I}_{neu}(g=0)w_{MT,0} \n",
    "$$\n",
    "\n",
    "**Conclusion:**\n",
    "\n",
    "The total charge density value for both embedding potentials are the same. \n",
    "\n",
    "$$\n",
    "\\tilde \\rho_{neu}^{emb}(G=0) = \\tilde \\rho_{neu}^{tot}(G=0) - \\tilde \\rho_{neu}^{I}(G=0)\n",
    "$$\n",
    "\n",
    "$$\n",
    "\\tilde \\rho_{ion}^{emb}(G=0) = \\tilde \\rho_{ion}^{tot}(G=0) - \\tilde \\rho_{ion}^{I}(G=0)\n",
    "$$\n",
    "\n",
    "$$\n",
    "<=> \\tilde \\rho_{ion}^{emb}(G=0) = \\tilde \\rho_{neu}^{tot}(G=0)+1 - \\tilde \\rho_{neu}^{I}(G=0) -1\n",
    "$$\n",
    "\n",
    "$$\n",
    "<=> \\tilde \\rho_{ion}^{emb}(G=0) = \\tilde \\rho_{neu}^{tot}(G=0)- \\tilde \\rho_{neu}^{I}(G=0)\n",
    "$$\n",
    "\n",
    "\n",
    "Due to the fact that the function $w(G)$ for G=0 also the same is leads to the conclusion that both embedding potentials are referenced correctly (not abosulte but relative to each other) if $\\tilde v_X(G=0)$ is the same for both embedding potentials. This is achieved for the embedding potentials above.\n"
   ]
  },
  {
   "cell_type": "markdown",
   "metadata": {},
   "source": [
    "1) Energydifference only for isolated system:\n",
    "\n",
    "$$\n",
    "\\Delta E_{MT}(g=0) = \\tilde \\rho^{I}_{ion}(g=0)v_{MT,ion}(g=0)-\\tilde \\rho^{I}_{neu}(g=0)v_{MT,neu}(g=0)\n",
    "$$\n",
    "\n",
    "$$\n",
    "<=> \\Delta E_{MT}(g=0) = \\tilde \\rho^{I}_{ion}(g=0)\\tilde \\rho^{I}_{ion}(g=0)w_{MT,0}-\\tilde \\rho^{I}_{neu}(g=0)\\tilde \\rho^{I}_{neu}(g=0)w_{MT,0}\n",
    "$$\n",
    "\n",
    "$$\n",
    "<=> \\Delta E_{MT}(g=0) = (\\tilde \\rho^{I}_{neu}(g=0)+1)(\\tilde \\rho^{I}_{neu}(g=0)+1)-\\tilde \\rho^{I}_{neu}(g=0)\\tilde \\rho^{I}_{neu}(g=0)w_{MT,0}\n",
    "$$\n",
    "\n",
    "$$\n",
    "<=> \\Delta E_{MT}(g=0) = (1+2\\tilde \\rho^{I}_{neu}(g=0))w_{MT,0}\n",
    "$$"
   ]
  },
  {
   "cell_type": "markdown",
   "metadata": {},
   "source": [
    "2) Energydifference only for isolated system with embedding potential and interaction energies:\n",
    "\n",
    "$$\n",
    "\\Delta E_{MT,Int}(g=0) = \\tilde \\rho^{I}_{ion}(g=0)v_{MT,ion}(g=0)-\\tilde \\rho^{I}_{neu}(g=0)v_{MT,neu}(g=0) + \\tilde \\rho^{I}_{ion}(g=0)v_{emb,imp}(g=0)-\\tilde \\rho^{I}_{neu}(g=0)v_{emb}(g=0)\n",
    "$$\n",
    "\n",
    "$$\n",
    "<=> \\Delta E_{MT,Int}(g=0) = (1+2\\tilde \\rho^{I}_{neu}(g=0))w_{MT,0} + \\tilde \\rho^{I}_{ion}(g=0)v_{emb,imp}(g=0)-\\tilde \\rho^{I}_{neu}(g=0)v_{emb}(g=0)\n",
    "$$\n",
    "\n",
    "$$\n",
    "<=> \\Delta E_{MT,Int}(g=0) = (1+2\\tilde \\rho^{I}_{neu}(g=0))w_{MT,0} + v_{emb,imp}(g=0) + \\tilde \\rho^{I}_{neu}(g=0)v_{emb,imp}(g=0)-\\tilde \\rho^{I}_{neu}(g=0)v_{emb}(g=0)\n",
    "$$\n",
    "\n",
    "$$\n",
    "<=> \\Delta E_{MT,Int}(g=0) = (1+2\\tilde \\rho^{I}_{neu}(g=0))w_{MT,0}  - \\tilde \\rho^{I}_{neu}(g=0)w_{MT,0}  + \\tilde \\rho^{I}_{neu}(g=0)(- \\tilde \\rho^{I}_{neu}(g=0)w_{MT,0}) -\\tilde \\rho^{I}_{neu}(g=0)(- \\tilde \\rho^{I}_{neu}(g=0)w_{MT,0} (g=0))\n",
    "$$\n",
    "\n",
    "$$\n",
    "<=> \\Delta E_{MT,Int}(g=0) = (1+2\\tilde \\rho^{I}_{neu}(g=0))w_{MT,0}  - \\tilde \\rho^{I}_{neu}(g=0)w_{MT,0}  - \\tilde \\rho^{I}_{neu}(g=0) \\tilde \\rho^{I}_{neu}(g=0)w_{MT,0} + \\tilde \\rho^{I}_{neu}(g=0) \\tilde \\rho^{I}_{neu}(g=0)w_{MT,0} (g=0)\n",
    "$$\n",
    "\n",
    "$$\n",
    "<=> \\Delta E_{MT,Int}(g=0) = (1+2\\tilde \\rho^{I}_{neu}(g=0))w_{MT,0}  - \\tilde \\rho^{I}_{neu}(g=0)w_{MT,0} = (1+\\tilde \\rho^{I}_{neu}(g=0))w_{MT,0}\n",
    "$$"
   ]
  },
  {
   "cell_type": "code",
   "execution_count": null,
   "metadata": {
    "collapsed": true
   },
   "outputs": [],
   "source": []
  }
 ],
 "metadata": {
  "kernelspec": {
   "display_name": "Python 3",
   "language": "python",
   "name": "python3"
  },
  "language_info": {
   "codemirror_mode": {
    "name": "ipython",
    "version": 3
   },
   "file_extension": ".py",
   "mimetype": "text/x-python",
   "name": "python",
   "nbconvert_exporter": "python",
   "pygments_lexer": "ipython3",
   "version": "3.6.3"
  }
 },
 "nbformat": 4,
 "nbformat_minor": 2
}
