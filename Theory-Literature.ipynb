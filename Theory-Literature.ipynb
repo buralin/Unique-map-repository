{
 "cells": [
  {
   "cell_type": "markdown",
   "metadata": {},
   "source": [
    "# Uniquely mapping through subsystem Density Functional Theory (DFT)"
   ]
  },
  {
   "cell_type": "markdown",
   "metadata": {},
   "source": [
    "## Table of contents:\n",
    "\n",
    "1. [Introduction](#introduction)\n",
    "2. [Martyna-Tuckerman](#paragraph 1)\n",
    "3. [Uniquely mapping](#paragraph 2)\n",
    "4. [Impurity problem](#paragraph 3)\n",
    "5. [Ionizationpotential](#paragraph 4)\n",
    "6. [Calculations](#paragraph 5)\n",
    "7. [Literature](#paragraph 7)\n"
   ]
  },
  {
   "cell_type": "markdown",
   "metadata": {},
   "source": [
    "## Introduction  <a name=\"introduction\"></a>\n",
    "\n",
    "This is a jupyter notebook to summarize the basics of an embedding approach developed in the Pavanello group to map periodic systems onto a collection finite systems. This method may open the field to a variety of interesting properties of systems within a crystal surrounding.\n",
    "\n",
    "For this we are using a method introduced by Martyna and Tuckerman.\n",
    "\n",
    "> http://aip.scitation.org/doi/abs/10.1063/1.477923"
   ]
  },
  {
   "cell_type": "markdown",
   "metadata": {},
   "source": [
    "## Martyna-Tuckerman Method  <a name=\"paragraph 1\"></a>\n",
    "\n",
    "Martyna-Tuckerman introduced a method based on a reciprocal space formalism for treating longrange interactions in cluster systems. Through this method interactions from periodic images with the unit cell are cut off.\n",
    ">http://aip.scitation.org/doi/abs/10.1063/1.3662863\n",
    "\n",
    "It is important to mention that the coulomb operator is still periodic and therefore standart FFT techniques can be used.\n",
    "\n",
    "This is achieved by introducing a screening potential which screens out interactions of the unit cell with neighbouring cells. \n",
    "\n",
    "$\\hat{\\phi}^{\\mathrm(screen)} = \\bar{\\phi}^{\\mathrm{(long)}} - \\tilde{\\phi}^{\\mathrm{(long)}}$\n",
    "\n",
    "\n",
    "It is clear that only the longrange part of the coulomb interaction need to be considered in this case. In the screening potential the difference between the fourier series and the fourier transform of the longrange part of the coulomb interaction cuts of the interaction of neighbouring cells. It is assumed that in case of the short range interaction both quantities are the same when the unit cell is chosen large enough."
   ]
  },
  {
   "cell_type": "markdown",
   "metadata": {},
   "source": [
    "## Uniquely mapping <a name=\"paragraph 2\"></a>\n",
    "\n",
    "\n",
    "We are introducing a new formalism which allows the mapping of periodic potentials onto a collection of finite systems.\n",
    "This is achieved by calculating an appropriate embedding potential $v_\\mathrm{emb}$ of the crystal surrounding for one isolated fragment. For this purpose it is useful to calculate this $v_\\mathrm{emb}$ using a subsystem-DFT approach with periodic boundary conditions.\n",
    "\n",
    "A naiv implementation of this idea would be to calculate $v_\\mathrm{emb}$ by subtracting the fragment for which we want to calculate $v_\\mathrm{emb}$\n",
    "\n",
    "$v_{\\mathrm{emb,I}} = v_\\mathrm{J,H}[\\mathrm{\\rho_{env}}] + v_\\mathrm{J,ext}(\\mathrm{r}_{\\mathrm{env}})\\quad \\mathrm{with} \\quad \\mathrm{J} \\: \\forall \\: \\mathrm{N_{s}} \\: \\notin \\: \\mathrm{I}$.\n",
    "\n",
    "Through excluding the fragment I from $v_\\mathrm{H}$ and $v_\\mathrm{ext}$ all periodic replicas of this fragment would be excluded as well and the effective potential of the surrounding isn't represented by $v_\\mathrm{emb,I}$ correctly.\n",
    "\n",
    "Through the Martyna-Tuckerman method we get the possibility to subtract an isolated fragment from the periodic system.\n",
    "\n",
    "$v_\\mathrm{emb,I} = v_\\mathrm{tot}[\\rho_\\mathrm{tot}] - v_\\mathrm{MT,I}[\\rho_{\\mathrm{I}}]$\n",
    "\n",
    "This leads to an effective potential of the surrounding. The verification for this becomes clear, if we look at impact of the $v_\\mathrm{emb,I}$ onto a finite calculation of only the subsystem I.\n",
    "\n",
    "$v_\\mathrm{finite,tot,I} = v_\\mathrm{finite,I} + v_\\mathrm{emb,I}$\n",
    "\n",
    "$\\Leftrightarrow v_\\mathrm{finite,tot,I} = v_\\mathrm{finite,I}[\\rho_{\\mathrm{I}}] + v_\\mathrm{tot}[\\rho_\\mathrm{tot}] - v_\\mathrm{MT,I}[\\rho_{\\mathrm{I}}]$\n",
    "\n",
    "$\\Leftrightarrow v_\\mathrm{finite,tot,I} = v_\\mathrm{tot}[\\rho_\\mathrm{tot}]$"
   ]
  },
  {
   "cell_type": "markdown",
   "metadata": {},
   "source": [
    "## The impurity problem <a name=\"paragraph 3\"></a>\n"
   ]
  },
  {
   "cell_type": "markdown",
   "metadata": {},
   "source": [
    "For the calculation of ionizationpotentials through mapping of properties two appropriate $v_\\mathrm{eff,I}$ are needed. In the case for a not ionized fragment one can use the map introduced above.\n",
    "\n",
    "In the case of the ionized fragment the potential $v_\\mathrm{tot}[\\rho_\\mathrm{tot}]$ must be a potential which only includes one 'impurity' or in other words only one ionized fragment. As we have seen in the unique map this is again a not trivial task in periodic boundary conditions. For this reason we introduce a 'half coupled' method to calculate $v_\\mathrm{tot}[\\rho_\\mathrm{tot}]$ in the impurity case.\n",
    "\n",
    "For this we introduce a special workflow and screening potentials to achieve this goal. The screening potential $\\hat{\\phi}^{\\mathrm(screen)}_\\mathrm{I}$ is calculated as following:\n",
    "\n",
    "$\\hat{\\phi}^{\\mathrm(screen)}_\\mathrm{I} = \\phi_\\mathrm{H, I} - \\phi_\\mathrm{H, MT, I} $\n",
    "\n",
    "In this case we are only looking at the Hartree-Potential $\\phi_\\mathrm{H, I}$ of fragment I because the local potential is for both the ionized case and the not ionized case the same. This screening function can be interpreted as the interaction of the surrounding onto one fragment I.\n",
    "\n",
    "Our idea is to calculate $\\hat{\\phi}^{\\mathrm(screen)}_\\mathrm{I}$ for the not ionized system at the end of the calculation. In the next step this is imported in a calculation with the ionized fragment.\n",
    "\n",
    "During each SCF iterations $\\hat{\\phi}^{\\mathrm(screen)}_\\mathrm{I}$ is also calculated (on the large cell). Furthermore the Difference between both is calculated:\n",
    "\n",
    "$\\Delta \\hat{\\phi}^{\\mathrm(screen)}_\\mathrm{I} = \\hat{\\phi}^{\\mathrm(screen, 0)}_\\mathrm{I} - \\hat{\\phi}^{\\mathrm(screen, ionized)}_\\mathrm{I}$.\n",
    "\n",
    "$\\Delta \\hat{\\phi}^{\\mathrm(screen)}_\\mathrm{I}$ can be seen as an function which is replacing the surrounding which is ionized with a surrounding of a not ionized fragment. Of course this is a simplification because we are only taking into account coulomb interactions and only the effect of the surrounding onto the fragment and not vice versa. Furthermore The interaction of the other fragments (in the unit cell and the surrounding) are still interacting with the ionized fragment.\n",
    "\n",
    "The procedure is leading to the following 'impurity'-potential.\n",
    "\n",
    "$v_\\mathrm{imp} = v_\\mathrm{eff, I}^{\\mathrm{ion}} + \\Delta \\hat{\\phi}^{\\mathrm(screen)}_\\mathrm{I}$\n",
    "\n",
    "In our case we think, although there are a few assumption taken into account, this mehtod should deliver statisfactoring results."
   ]
  },
  {
   "cell_type": "markdown",
   "metadata": {},
   "source": [
    "## Ionizationpotential <a name=\"paragraph 4\"></a>\n",
    "\n",
    "Through the introduction of the unique map and the impurity potential the we are geting the possibility to calculate the vertical ionizationpotentials from total energy differences, although ionizationpotentials are hard to define in calculations with periodic boundary conditions (pbc). This is caused by the fact that the ionized fragment is in every periodicly repeating unit cell of the system and the ionizationpotential is only properly defined in the limit of an infinite large supercell.\n",
    "\n",
    "Furthermore energy differences of systems with different total charge are difficult to define.\n",
    "\n",
    "> http://aip.scitation.org/doi/abs/10.1063/1.477923\n",
    "\n",
    "The reason for this is that the ewald summation of a total charged periodic system is diverging.\n",
    "\n",
    "> http://www.sciencedirect.com/science/article/pii/0021999187900763 (maybe take something different)\n",
    "\n",
    "To avoid divergency in the ewald summation QE is adding an opposite charged background to the system. Through  this backroung energy eigenvalues are shifted and energy differences lead to wrong results. A workaround this problem is to define a proper reference system for both systems.\n",
    "\n",
    "> http://aip.scitation.org/doi/abs/10.1063/1.464650\n",
    "\n",
    "In our case we are distinguishing two different reference systems.\n",
    "\n",
    "!!!!!!!!!!!!!!!!!!!!!!!!!!!!!!!!!!!!!**Carefull probably wrong look at Embedding IP Johannes for more info** !!!!!!!!!!!!!!!!!!!!!!!!!!!!!!!!!!!!!\n",
    "* crystal reference:\n",
    "\n",
    "The derivation of the crystal reference system is performed from the effective potentials of subsystem I. \n",
    "\n",
    "$1)\\quad v_\\mathrm{eff, I}^{0} (g = 0) = 0$\n",
    "\n",
    "$2)\\quad v_\\mathrm{emb, I}^{\\mathrm{ion}} (g = 0) = v_\\mathrm{imp, I}^{\\mathrm{ion}} (g = 0) = v_\\mathrm{eff, I}^{\\mathrm{ion}}(g = 0) + \\Delta \\hat{\\phi}^{\\mathrm(screen)}_\\mathrm{I} (g = 0) $\n",
    "\n",
    "with $v_\\mathrm{eff, I}^{\\mathrm{ion}}(g = 0) = 0$\n",
    "\n",
    "\n",
    "$\\Rightarrow  v_\\mathrm{imp, I}^{\\mathrm{ion}} (g = 0) = \\phi_\\mathrm{H, MT, I}^\\mathrm{ion} - \\phi_\\mathrm{H, MT, I}^0 $\n",
    "\n",
    "* vacuum reference:\n",
    "\n",
    "In the other case we are referencing both systems in the final calulation to the vacuum level of the isolated (Martyna-Tuckerman) systems through adding:\n",
    "\n",
    "$1)\\Rightarrow \\quad v_\\mathrm{eff, I}^{0} (g = 0) + \\phi_\\mathrm{H, MT, I}^0 (g = 0)+ \\phi_\\mathrm{loc, MT, I}^0(g = 0) = \\phi_\\mathrm{MT, I}^0(g = 0)$\n",
    "\n",
    "$2)\\Rightarrow \\quad v_\\mathrm{imp, I}^{\\mathrm{ion}} (g = 0) + \\phi_\\mathrm{H, MT, I}^0 (g = 0)+ \\phi_\\mathrm{loc, MT, I}^{\\mathrm{ion}} (g = 0) + \\phi_\\mathrm{H, MT, I}^0 (g = 0) = \\phi_\\mathrm{MT, I}^\\mathrm{ion}(g = 0)$\n",
    "\n",
    "!!!!!!!!!!!!!!!!!!!!!!!!!!!!!!!!!!!!!!!!!!!!!!!!!!!!!!!!!!!!!!!!!!!!!!!!!!!!!!!!!!!!!!!!!!!!!!!!!!!!!!!!!!!!!!!!!!!!!!!!!!!!!!!!!!!!!!!!!!!!!!!!!!!!!!!!!!"
   ]
  },
  {
   "cell_type": "markdown",
   "metadata": {},
   "source": [
    "### Workflow:\n",
    "\n",
    "\n",
    "<img src=\"Workflow.png\" width=\"220\" height=\"320'\">"
   ]
  },
  {
   "cell_type": "markdown",
   "metadata": {},
   "source": [
    "## Calculations <a name=\"paragraph 6\"></a>\n",
    "Three test systems were chosen to proof the applicability of our method. In both cases we are looking at ionic crystals.\n",
    "\n",
    "### System 1: CsI\n",
    "\n",
    "#### Calculations with eQE\n",
    "\n",
    "\n",
    "* Computational details:\n",
    "    * Cubic cell with a  = 4.567 Å for (two subsystem case)\n",
    "    > https://journals.aps.org/prb/abstract/10.1103/PhysRevB.33.8706\n",
    "    * Ecutwfc = 75 Ry\n",
    "    * Ecutrho = 750 Ry\n",
    "    * fde_kin_funct = 'LC94'\n",
    "    * K -Points: 1 1 1 0 0 0\n",
    "    * use_gaussians = .true.\n",
    "    * only no cell split for the 128 for the subsystem of interest\n",
    "\n",
    "\n",
    "| Subsytems    | vtot         | ionized     | impurity     | MT           | MT ionized   | map          |map ionized| map vaccum| map vacuum ionized|\n",
    "| ------------ |:------------:|:------------:|:------------:|:------------:|:------------:|:------------:|:---------:|:---------:|:---------:|\n",
    "| 2            |  x           | x            | x            | x            | x            | x            | x    |x|x|     |\n",
    "| 16           |  x           | x            | x            | x             | x            | x            | x    |x|x|    |\n",
    "| 54           |  x           | x            | x            | x            | x            | x            | x    |x|x    |\n",
    "| 128 cellsplit(1,2,3) = 0.6         |  x           | x            | x            | x            | x            | x            | x         |x|x|\n",
    "| 128 cellsplit(1,2,3) = 1.0         |  x           | x            | x            | x            | x            | x            | x         |x|x|"
   ]
  },
  {
   "cell_type": "markdown",
   "metadata": {},
   "source": [
    "### System 2: NaCl \n",
    "\n",
    "#### Calculations with eQE\n",
    "\n",
    "\n",
    "* Computational details:\n",
    "    * Cell parameters from: \n",
    "    > https://journals.aps.org/prl/abstract/10.1103/PhysRevLett.84.1942\n",
    "    * Ecutwfc = 75 Ry\n",
    "    * Ecutrho = 750 Ry\n",
    "    * fde_kin_funct = 'LC94'\n",
    "    * K -Points: 1 1 1 0 0 0\n",
    "\n",
    "\n",
    "| Subsytems    | vtot         | ionized     | impurity     | MT           | MT ionized   | map          |map ionized| map vaccum| map vacuum ionized|\n",
    "| ------------ |:------------:|:------------:|:------------:|:------------:|:------------:|:------------:|:---------:|:---------:|:---------:|\n",
    "| 2            |  x           | x            | x            | x            | x            | x            | x    |x|x|     |\n",
    "| 16           |  x           | x            | x            | x            | x            | x            | x    |x|x|    |\n",
    "| 54           |  x           | x            | x            | x            | x            | x            | x    |x|x    |\n",
    "| 128          |  x           | x            | x            | x            | x            | x            | x         |x|x|\n",
    "\n"
   ]
  },
  {
   "cell_type": "markdown",
   "metadata": {},
   "source": [
    "### System 3: Cs2UO2Cl4 / Model C\n",
    "\n",
    "#### Calculations with eQE\n",
    "\n",
    "\n",
    "* Computational details:\n",
    "    * Monoclinic cell: \n",
    "    \n",
    "        a = (11.93, 0.00, -1.01)\n",
    "        \n",
    "        b = (0.00, 7.70, 0.00)\n",
    "        \n",
    "        c = (0.00, 0.00, 5.73)\n",
    "        \n",
    "    > http://scripts.iucr.org/cgi-bin/paper?s0108270191006777\n",
    "    * Ecutwfc = 95 Ry\n",
    "    * Ecutrho = 950 Ry\n",
    "    * fde_kin_funct = 'LC94'\n",
    "    * K -Points: 1 1 1 0 0 0\n",
    "    * use_gaussians = .true.\n",
    "\n",
    "| Subsytems    | vtot         | ionized      | impurity     | MT           | MT ionized   | map          |map ionized| map vacuum| map vacuum charged|\n",
    "| ------------ |:------------:|:------------:|:------------:|:------------:|:------------:|:------------:|:---------:|:---------:|:---------:|\n",
    "| 14            |  x           | x            | x            | x            | x            | x            | x |x|x|      \n",
    "| 84           |  x           | x            | x            | x            | x            | x            | x  |x|x|       \n",
    "|Model C| x           | x            | x            | x            | x            | x            | x         |x|x|\n"
   ]
  },
  {
   "cell_type": "markdown",
   "metadata": {},
   "source": [
    "## Literature: <a name=\"paragraph 7\"></a>"
   ]
  },
  {
   "cell_type": "markdown",
   "metadata": {},
   "source": [
    "1) Papers from Peter A. Schulz:\n",
    "\n",
    "--> Method for the calculation of ionizatiopotential of NaCl\n",
    "\n",
    "--> Theory of defect levels and the \"Band Gap Problem\" in Silicon\n",
    "\n",
    "> https://journals.aps.org/prl/abstract/10.1103/PhysRevLett.84.1942\n",
    "\n",
    "> https://journals.aps.org/prl/abstract/10.1103/PhysRevLett.96.246401\n",
    "\n",
    "> https://journals.aps.org/prb/abstract/10.1103/PhysRevB.60.1551"
   ]
  }
 ],
 "metadata": {
  "kernelspec": {
   "display_name": "Python 3",
   "language": "python",
   "name": "python3"
  },
  "language_info": {
   "codemirror_mode": {
    "name": "ipython",
    "version": 3
   },
   "file_extension": ".py",
   "mimetype": "text/x-python",
   "name": "python",
   "nbconvert_exporter": "python",
   "pygments_lexer": "ipython3",
   "version": "3.6.3"
  }
 },
 "nbformat": 4,
 "nbformat_minor": 2
}
